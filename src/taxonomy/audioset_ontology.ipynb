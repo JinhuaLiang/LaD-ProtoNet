{
 "cells": [
  {
   "cell_type": "code",
   "execution_count": 21,
   "id": "6d7babe4-d778-4a29-b30a-a6c4c0f82671",
   "metadata": {
    "pycharm": {
     "name": "#%%\n"
    }
   },
   "outputs": [],
   "source": [
    "import json"
   ]
  },
  {
   "cell_type": "code",
   "execution_count": 2,
   "id": "499f756c-2afe-4515-8391-c5a1a4990197",
   "metadata": {
    "pycharm": {
     "name": "#%%\n"
    }
   },
   "outputs": [],
   "source": [
    "with open('./ontology.json', 'rb') as f:\n",
    "    meta = json.load(f)"
   ]
  },
  {
   "cell_type": "code",
   "execution_count": 3,
   "id": "8568b8cd-0b14-40c4-b041-ffb2e3c9c660",
   "metadata": {
    "pycharm": {
     "name": "#%%\n"
    }
   },
   "outputs": [
    {
     "name": "stdout",
     "output_type": "stream",
     "text": [
      "['/m/07st89h', '/m/07qn5dc']\n"
     ]
    }
   ],
   "source": [
    "# create a dict containing elements as \"mid: {\"name\": , \"child_ids\", \"restrictions\", \"parent_ids\"}\"\n",
    "voc = {}\n",
    "for cls in meta:\n",
    "    tmp = {}\n",
    "    tmp['name'] = cls['name']\n",
    "    tmp['child_ids'] = cls['child_ids']\n",
    "    tmp['restrictions'] = cls['restrictions']\n",
    "    tmp['parent_ids'] = []\n",
    "    tmp['hierarchy'] = []\n",
    "    tmp['ancestor_id'] = []\n",
    "    \n",
    "    voc[cls['id']] = tmp\n",
    "    \n",
    "print(voc['/m/09b5t']['child_ids']) # check the result randomly "
   ]
  },
  {
   "cell_type": "code",
   "execution_count": 4,
   "id": "200c3b8e-352c-46c1-8b28-76edf3c8f188",
   "metadata": {
    "pycharm": {
     "name": "#%%\n"
    }
   },
   "outputs": [
    {
     "name": "stdout",
     "output_type": "stream",
     "text": [
      "{'name': 'Male speech, man speaking', 'child_ids': [], 'restrictions': [], 'parent_ids': ['/m/09x0r'], 'hierarchy': [], 'ancestor_id': []}\n"
     ]
    }
   ],
   "source": [
    "# append 'parent' attribute to each category\n",
    "for id in voc:\n",
    "    for child_id in voc[id]['child_ids']:\n",
    "        voc[child_id]['parent_ids'].append(id)\n",
    "\n",
    "print(voc['/m/05zppz']) # check a category randomly"
   ]
  },
  {
   "cell_type": "code",
   "execution_count": 5,
   "id": "c684cb0b-966e-436b-807f-54fa88a3f029",
   "metadata": {
    "pycharm": {
     "name": "#%%\n"
    }
   },
   "outputs": [
    {
     "name": "stdout",
     "output_type": "stream",
     "text": [
      "38\n",
      "There are 632 labels in the ontology. 38 labels have more than one path to root, so there would be 677 labels throughout the hierarchy\n",
      "{'name': 'Children shouting', 'child_ids': [], 'restrictions': [], 'parent_ids': ['/m/07p6fty', '/t/dd00012'], 'hierarchy': [], 'ancestor_id': []}\n"
     ]
    }
   ],
   "source": [
    "probe = []\n",
    "count = 0\n",
    "extra_labels = 0\n",
    "for id in voc:\n",
    "    if voc[id]['parent_ids'] != [] and len(voc[id]['parent_ids']) > 1:\n",
    "        count += 1\n",
    "        extra_labels += len(set(voc[id]['parent_ids'])) - 1 \n",
    "        probe.append(id)\n",
    "\n",
    "print(len(probe))\n",
    "print(\"There are {} labels in the ontology. {} labels have more than one path to root, so there would be {} labels throughout the hierarchy\".format(len(voc), count, len(voc) + extra_labels))\n",
    "print(voc['/t/dd00135'])"
   ]
  },
  {
   "cell_type": "code",
   "execution_count": null,
   "outputs": [],
   "source": [],
   "metadata": {
    "collapsed": false,
    "pycharm": {
     "name": "#%%\n"
    }
   }
  },
  {
   "cell_type": "code",
   "execution_count": 6,
   "id": "6b2834db-de03-4377-ad99-d09b44499f21",
   "metadata": {
    "tags": [],
    "pycharm": {
     "name": "#%%\n"
    }
   },
   "outputs": [
    {
     "name": "stdout",
     "output_type": "stream",
     "text": [
      "N_num in level 1 of the ontology is 7\n",
      "N_num in level 2 of the ontology is 43\n",
      "N_num in level 3 of the ontology is 306\n",
      "N_num in level 4 of the ontology is 240\n",
      "N_num in level 5 of the ontology is 66\n",
      "N_num in level 6 of the ontology is 5\n"
     ]
    }
   ],
   "source": [
    "def make_hierarchy(_voc, n_iter=9, verbose=True):\n",
    "    # append 'hierarchy' attribute to each category and create a dict for each level\n",
    "    hierarchy = {}\n",
    "    level = 1\n",
    "\n",
    "    # the first level doesn't have parent id\n",
    "    tmp = []\n",
    "    for id in _voc:\n",
    "        if _voc[id]['parent_ids'] == []:\n",
    "            if level not in _voc[id]['hierarchy']: _voc[id]['hierarchy'].append(level)\n",
    "            if id not in _voc[id]['ancestor_id']: _voc[id]['ancestor_id'].append(id)\n",
    "            tmp.append(id)\n",
    "\n",
    "    hierarchy[level] = tmp\n",
    "    # print(_voc)\n",
    "    # print(len(hierarchy[level]))\n",
    "\n",
    "    # now iter for the following level\n",
    "    while level < n_iter:\n",
    "        level += 1\n",
    "        tmp = []\n",
    "        for id in _voc:\n",
    "            for p in _voc[id]['parent_ids']:\n",
    "                # inherite ancestor_id from the parent \n",
    "                for a_id in _voc[p]['ancestor_id']: \n",
    "                    if a_id not in _voc[id]['ancestor_id']: _voc[id]['ancestor_id'].append(a_id)\n",
    "                    \n",
    "                if p in hierarchy[level - 1]: \n",
    "                    if level not in _voc[id]['hierarchy']: _voc[id]['hierarchy'].append(level)\n",
    "                    tmp.append(id)\n",
    "                    break\n",
    "\n",
    "        if tmp != []:\n",
    "            hierarchy[level] = tmp\n",
    "        else:\n",
    "            break\n",
    "\n",
    "    if verbose:\n",
    "        # show some results\n",
    "        # for cls in _voc:\n",
    "            # print('{}\\n'.format(_voc[cls]))\n",
    "        for level in hierarchy:\n",
    "            print(\"N_num in level {} of the ontology is {}\".format(level, len(hierarchy[level])))\n",
    "            \n",
    "            \n",
    "    return hierarchy, _voc\n",
    "\n",
    "\n",
    "as_hierarchy, voc = make_hierarchy(voc)"
   ]
  },
  {
   "cell_type": "code",
   "execution_count": 7,
   "id": "a1998468-951c-4c49-94ae-0e24de570cb9",
   "metadata": {
    "pycharm": {
     "name": "#%%\n"
    }
   },
   "outputs": [
    {
     "name": "stdout",
     "output_type": "stream",
     "text": [
      "The intersection between 2 and 3 is {'/m/0395lw'} (n=1)\n",
      "The intersection between 3 and 4 is {'/m/07n_g', '/m/0f8s22', '/g/11b630rrvh', '/m/03w41f', '/m/07rqsjt', '/m/07rjwbb', '/m/07qn4z3', '/t/dd00135', '/m/0l14jd', '/m/07qcpgn', '/m/0239kh', '/m/027m70_', '/m/07r4wb8', '/m/0gy1t2s', '/m/03wwcy', '/m/07qnq_y', '/m/0150b9'} (n=17)\n",
      "The intersection between 3 and 5 is {'/m/0912c9', '/m/02mfyn', '/m/04229', '/m/05x_td', '/t/dd00092', '/m/0gy1t2s'} (n=6)\n",
      "The intersection between 4 and 5 is {'/m/012ndj', '/m/07pggtn', '/m/026fgl', '/m/08j51y', '/m/07rrh0c', '/m/07r67yg', '/m/07pjwq1', '/t/dd00108', '/m/0gy1t2s', '/m/04qvtq', '/m/012n7d'} (n=11)\n",
      "35\n"
     ]
    }
   ],
   "source": [
    "def check_multipath(hierarchy):\n",
    "    sum = 0\n",
    "    intersection = {}\n",
    "    for lvl in hierarchy:\n",
    "        # check there is no duplication in the same level\n",
    "        assert len(hierarchy[lvl]) == len(list(set(hierarchy[lvl])))\n",
    "\n",
    "        # check the overlaps between different level\n",
    "        for l in range(lvl + 1, len(hierarchy)):\n",
    "            tmp = set(hierarchy[lvl]).intersection(set(hierarchy[l]))\n",
    "            sum += len(tmp)\n",
    "            if tmp:\n",
    "                intersection['{}&{}'.format(lvl, l)] = tmp\n",
    "                print('The intersection between {} and {} is {} (n={})'.format(lvl, l, tmp, len(tmp)))\n",
    "\n",
    "    print(sum)\n",
    "    # print(sum + len(_voc))\n",
    "    return intersection\n",
    "    \n",
    "    \n",
    "as_intersection = check_multipath(as_hierarchy)"
   ]
  },
  {
   "cell_type": "code",
   "execution_count": 8,
   "id": "861a97d3-16cb-4897-9885-a0f179b997a9",
   "metadata": {
    "pycharm": {
     "name": "#%%\n"
    }
   },
   "outputs": [],
   "source": [
    "import os\n",
    "import pandas as pd\n",
    "\n",
    "# define WORKPLACE path\n",
    "collection_dir = './collection'\n",
    "\n",
    "dev_csv = 'collection_dev.csv'\n",
    "eval_csv = 'collection_eval.csv'\n",
    "dev_voc_csv = 'vocabulary_collection_dev.csv'\n",
    "eval_voc_csv = 'vocabulary_collection_eval.csv'"
   ]
  },
  {
   "cell_type": "code",
   "execution_count": 9,
   "id": "846ca5fe-a0d9-4392-b232-3d7f4235feae",
   "metadata": {
    "pycharm": {
     "name": "#%%\n"
    }
   },
   "outputs": [
    {
     "name": "stdout",
     "output_type": "stream",
     "text": [
      "['/m/07q2z82', '/m/0mkg', '/m/042v_gx', '/m/025wky1', '/m/05x_td', '/m/0k5j', '/m/014yck', '/m/07pp_mv', '/m/046dlr', '/m/02pprs', '/m/012n7d', '/m/0jbk', '/m/028ght', '/m/0dl83', '/m/0_1c', '/m/0261r1', '/t/dd00002', '/t/dd00001', '/m/05tny_', '/m/0bm02', '/m/018vs', '/m/01c3q', '/m/03dnzn', '/m/04gy_2', '/m/01h3n', '/m/0395lw', '/m/0199g', '/m/0gy1t2s', '/m/015p6', '/m/05_wcq', '/m/020bb7', '/m/07q0h5t', '/m/02pjr4', '/m/019jd', '/m/0dv3j', '/m/07qqyl4', '/m/0l14_3', '/m/01kcd', '/m/0lyf6', '/m/03q5_w', '/m/07qsvvw', '/m/01bjv', '/m/01z47d', '/m/07pjwq1', '/m/030rvx', '/m/0dv5r', '/m/073cg4', '/m/0k4j', '/m/02mfyn', '/t/dd00134', '/m/024dl', '/m/01yrx', '/m/01xq0k1', '/m/07r5c2p', '/m/01xqw', '/m/01sb50', '/m/01j4z9', '/m/02bk07', '/m/07rkbfh', '/m/053hz1', '/m/03cczk', '/m/09b5t', '/t/dd00005', '/m/0ytgt', '/t/dd00013', '/t/dd00135', '/m/0f8s22', '/m/07q7njn', '/m/02021', '/m/07pggtn', '/m/0l14jd', '/m/07pczhz', '/m/07pn_8q', '/m/07rgt08', '/m/03w41f', '/m/0dgbq', '/m/0l15bq', '/m/01wy6', '/m/07rv9rh', '/m/01x3z', '/m/07st89h', '/t/dd00108', '/m/0242l', '/m/01m2v', '/m/01h8n0', '/m/07r_25d', '/m/01b_21', '/m/0239kh', '/m/07qs1cx', '/m/07pzfmf', '/m/0bm0k', '/m/09xqv', '/m/07st88b', '/m/04s8yn', '/m/03qtwd', '/m/07qn5dc', '/t/dd00112', '/m/07plct2', '/m/0463cq4', '/m/0642b4', '/m/023pjk', '/m/01qbl', '/m/08j51y', '/m/015jpf', '/m/02bxd', '/m/07r67yg', '/m/04brg2', '/m/0bt9lr', '/m/02dgv', '/m/03wwcy', '/m/02fsn', '/m/0fqfqc', '/m/01d380', '/m/07r5v4s', '/m/026t6', '/m/02hnl', '/m/02k_mr', '/m/09ddx', '/m/02sgy', '/m/01s0ps', '/m/02g901', '/m/04fgwm', '/m/03xq_f', '/m/03j1ly', '/m/02mk9', '/t/dd00130', '/m/014zdl', '/m/02_nn', '/t/dd00004', '/m/02zsn', '/m/02p01q', '/m/07p7b8y', '/m/025_jnm', '/m/02_41', '/m/0c3f7m', '/m/012ndj', '/g/122z_qxw', '/m/0g6b5', '/m/0cmf2', '/m/0l14j_', '/m/0h2mp', '/m/04fq5q', '/m/0319l', '/m/09ld4', '/m/0dxrf', '/m/02z32qm', '/m/0939n_', '/m/07s0dtb', '/m/0l7xg', '/m/07r660_', '/m/039jq', '/m/0dwtp', '/m/03fwl', '/m/0mbct', '/m/0dbvp', '/m/0ghcn6', '/m/07r4k75', '/m/0342h', '/m/01dwxx', '/m/032s66', '/m/07swgks', '/m/03wvsk', '/m/03l9g', '/m/03gvt', '/m/0k65p', '/m/03qjg', '/m/03m5k', '/m/03q5t', '/m/01jg02', '/m/09ct_', '/m/03qtq', '/m/07rjwbb', '/m/07qwf61', '/m/07r_80w', '/m/03k3r', '/m/07qf0zm', '/m/07q8f3b', '/m/07qfr4h', '/m/09l8g', '/m/07pb8fc', '/m/03vt0', '/m/03p19w', '/m/027m70_', '/m/05148p4', '/m/03v3yw', '/m/07r4wb8', '/m/01j3sz', '/m/01yg9g', '/t/dd00065', '/m/04k94', '/m/04zjc', '/t/dd00003', '/m/05zppz', '/m/0j45pbj', '/m/01c194', '/m/0xzly', '/m/0dwsp', '/m/02x984l', '/t/dd00077', '/t/dd00066', '/m/07qrkrw', '/m/0fx9l', '/m/07rpkh9', '/m/09f96', '/m/012f08', '/m/04_sv', '/m/04rmv', '/m/04rlf', '/m/02qldy', '/m/07q5rw0', '/m/05kms', '/m/05kq4', '/t/dd00018', '/m/05pd6', '/m/013y1f', '/m/09d5_', '/m/05mxj0q', '/m/07pyy8b', '/m/0l14md', '/m/05r5c', '/m/068zj', '/m/0h0rv', '/m/0d8_n', '/m/0fx80y', '/m/04qvtq', '/m/0_ksk', '/m/04gxbd', '/m/01m4t', '/m/05zc1', '/m/02yds9', '/m/07qdb04', '/m/0ltv', '/m/06mb1', '/t/dd00038', '/m/07r10fb', '/m/06bxc', '/m/02bm9n', '/m/07qn4z3', '/m/05r5wn', '/m/0bxl5', '/m/03t3fj', '/m/01hnzm', '/m/04cvmfc', '/m/06hps', '/m/06h7j', '/m/09t49', '/m/0hsrw', '/m/023vsd', '/m/01b82r', '/m/06ncr', '/m/01lsmm', '/m/01hgjl', '/m/03qc9zr', '/m/07q8k13', '/m/0llzx', '/m/07rn7sz', '/m/07bgp', '/m/06q74', '/m/07p6fty', '/m/05rj2', '/m/07plz5l', '/m/015lz1', '/m/0l14t7', '/m/0130jx', '/m/03kmc9', '/m/0jtg0', '/m/06_fw', '/m/07rknqz', '/m/07rjzl8', '/m/02y_763', '/m/07p6mqd', '/m/07pc8l3', '/m/06rvn', '/m/01hsr_', '/m/07s04w4', '/m/07ppn3j', '/m/01d3sd', '/t/dd00139', '/m/03t22m', '/m/09x0r', '/m/0brhx', '/m/07rrlb6', '/m/07pl1bw', '/m/07qlf79', '/m/07sx8x_', '/m/07q6cd_', '/m/07qlwh6', '/m/06wzb', '/m/06hck5', '/m/06w87', '/m/07ptfmf', '/m/0j6m2', '/m/07s0s5r', '/m/0195fx', '/t/dd00006', '/m/01p970', '/m/07brj', '/m/07qcpgn', '/m/07qcx4z', '/m/07cx4', '/m/07pp8cl', '/m/02c8p', '/m/07kc_', '/m/0dl9sf8', '/m/07qnq_y', '/m/0ngt1', '/m/0jb2l', '/m/07rrh0c', '/m/07qjznt', '/m/07qjznl', '/m/011k_j', '/m/01jt3m', '/m/07k1x', '/m/07qv_d5', '/m/012xff', '/m/0btp2', '/m/07jdr', '/m/0284vy3', '/m/04zmvq', '/m/07pqc89', '/m/07c6l', '/m/07r04', '/m/07gql', '/m/016622', '/m/01rd7k', '/m/0c2wf', '/m/0316dw', '/m/07xzm', '/m/0d31p', '/m/07yv9', '/m/0912c9', '/m/0zmy2j9', '/m/0dwt5', '/m/07y_7', '/m/07qw_06', '/m/07pbtc8', '/m/0838f', '/m/02jz0l', '/m/0j2kx', '/m/034srq', '/m/02rtxlg', '/m/07rwj3x', '/m/07rqsjt', '/m/03m9d0z', '/m/026fgl', '/m/085jw', '/t/dd00092', '/m/083vt', '/m/081rb', '/m/01j423', '/m/07sr1lc', '/m/07r_k2n', '/m/01swy6', '/m/01s0vc']\n",
      "354\n"
     ]
    }
   ],
   "source": [
    "collection_info = {}\n",
    "with open(os.path.join(collection_dir, dev_voc_csv), 'r') as f1:\n",
    "    meta1 = pd.read_csv(f1, names=['index', 'label', 'id'])\n",
    "    collection_info['index'] = meta1['index'].values.tolist()\n",
    "    collection_info['label'] = meta1['label'].values.tolist()\n",
    "    collection_info['id'] = meta1['id'].values.tolist()\n",
    "\n",
    "print(collection_info['id'])\n",
    "print(len(collection_info['index']))"
   ]
  },
  {
   "cell_type": "code",
   "execution_count": 10,
   "id": "f8bbe4e4-976f-4de8-8943-1da93595a401",
   "metadata": {
    "pycharm": {
     "name": "#%%\n"
    }
   },
   "outputs": [
    {
     "name": "stdout",
     "output_type": "stream",
     "text": [
      "378\n"
     ]
    }
   ],
   "source": [
    "index = len(collection_info['index'])\n",
    "\n",
    "with open(os.path.join(collection_dir, eval_voc_csv), 'r') as f2:\n",
    "    meta2 = pd.read_csv(f2, names=['index', 'label', 'id'])\n",
    "    for row, id in enumerate(meta2['id']):\n",
    "        if id in collection_info['id']:\n",
    "            # print(collection_info['id'][row])\n",
    "            pass\n",
    "        else:\n",
    "            collection_info['index'].append(index)\n",
    "            collection_info['label'].append(meta2['label'].iloc[row])\n",
    "            collection_info['id'].append(meta2['id'].iloc[row])\n",
    "            \n",
    "            index += 1\n",
    "\n",
    "# print(collection_info['index'])\n",
    "print(len(collection_info['id']))"
   ]
  },
  {
   "cell_type": "code",
   "execution_count": 11,
   "id": "cf5675d9-0b8b-439d-b84a-51547deec394",
   "metadata": {
    "pycharm": {
     "name": "#%%\n"
    }
   },
   "outputs": [
    {
     "name": "stdout",
     "output_type": "stream",
     "text": [
      "378\n"
     ]
    }
   ],
   "source": [
    "collection_voc = {}\n",
    "for id in collection_info['id']:\n",
    "    collection_voc[id] = voc[id]\n",
    "\n",
    "# print(collection_voc)\n",
    "print(len(collection_voc))"
   ]
  },
  {
   "cell_type": "code",
   "execution_count": 12,
   "id": "d6d49093-3e68-4d6f-b137-64931b88a6c1",
   "metadata": {
    "tags": [],
    "pycharm": {
     "name": "#%%\n"
    }
   },
   "outputs": [],
   "source": [
    "# collection_hierarchy, _ = make_hierarchy(collection_voc)"
   ]
  },
  {
   "cell_type": "code",
   "execution_count": 13,
   "id": "d89cf9b9-4040-4bf2-b180-a3b261f39be9",
   "metadata": {
    "pycharm": {
     "name": "#%%\n"
    }
   },
   "outputs": [
    {
     "name": "stdout",
     "output_type": "stream",
     "text": [
      "N_num in level 1 of the ontology is 4\n",
      "N_num in level 2 of the ontology is 24\n",
      "N_num in level 3 of the ontology is 168\n",
      "N_num in level 4 of the ontology is 157\n",
      "N_num in level 5 of the ontology is 52\n",
      "N_num in level 6 of the ontology is 4\n",
      "number of total categories is 409\n"
     ]
    }
   ],
   "source": [
    "def show_hierarchy(voc, n_iter=9):\n",
    "    level = 0\n",
    "    hierarchy = {}\n",
    "    while level < n_iter:\n",
    "        tmp = []\n",
    "        level += 1\n",
    "        for cls in voc:\n",
    "            if level in voc[cls]['hierarchy']: tmp.append(cls)\n",
    "        \n",
    "        if tmp == []: break\n",
    "        else: hierarchy[level] = tmp\n",
    "                \n",
    "    # show some results\n",
    "    s = 0\n",
    "    for l in range(1, len(hierarchy) +1):\n",
    "        s += len(hierarchy[l])\n",
    "        print(\"N_num in level {} of the ontology is {}\".format(l, len(hierarchy[l])))\n",
    "    \n",
    "    print(\"number of total categories is {}\".format(s))\n",
    "    return hierarchy\n",
    "\n",
    "\n",
    "collection_hierarchy = show_hierarchy(collection_voc)"
   ]
  },
  {
   "cell_type": "code",
   "execution_count": 14,
   "id": "0780a09e-b3b1-48c5-b8a7-4c9e0f02f15d",
   "metadata": {
    "pycharm": {
     "name": "#%%\n"
    }
   },
   "outputs": [
    {
     "name": "stdout",
     "output_type": "stream",
     "text": [
      "The intersection between 2 and 3 is {'/m/0395lw'} (n=1)\n",
      "The intersection between 3 and 4 is {'/m/0f8s22', '/m/03w41f', '/m/07rqsjt', '/m/07rjwbb', '/t/dd00135', '/m/0l14jd', '/m/07qcpgn', '/m/0239kh', '/m/027m70_', '/m/07r4wb8', '/m/0gy1t2s', '/m/03wwcy', '/m/07qnq_y', '/m/07qn4z3'} (n=14)\n",
      "The intersection between 3 and 5 is {'/m/0912c9', '/m/02mfyn', '/m/05x_td', '/t/dd00092', '/m/0gy1t2s'} (n=5)\n",
      "The intersection between 4 and 5 is {'/m/012ndj', '/m/07pggtn', '/m/026fgl', '/m/08j51y', '/m/07rrh0c', '/m/07r67yg', '/m/07pjwq1', '/t/dd00108', '/m/0gy1t2s', '/m/04qvtq', '/m/012n7d'} (n=11)\n",
      "31\n"
     ]
    },
    {
     "data": {
      "text/plain": "{'2&3': {'/m/0395lw'},\n '3&4': {'/m/0239kh',\n  '/m/027m70_',\n  '/m/03w41f',\n  '/m/03wwcy',\n  '/m/07qcpgn',\n  '/m/07qn4z3',\n  '/m/07qnq_y',\n  '/m/07r4wb8',\n  '/m/07rjwbb',\n  '/m/07rqsjt',\n  '/m/0f8s22',\n  '/m/0gy1t2s',\n  '/m/0l14jd',\n  '/t/dd00135'},\n '3&5': {'/m/02mfyn', '/m/05x_td', '/m/0912c9', '/m/0gy1t2s', '/t/dd00092'},\n '4&5': {'/m/012n7d',\n  '/m/012ndj',\n  '/m/026fgl',\n  '/m/04qvtq',\n  '/m/07pggtn',\n  '/m/07pjwq1',\n  '/m/07r67yg',\n  '/m/07rrh0c',\n  '/m/08j51y',\n  '/m/0gy1t2s',\n  '/t/dd00108'}}"
     },
     "execution_count": 14,
     "metadata": {},
     "output_type": "execute_result"
    }
   ],
   "source": [
    "check_multipath(collection_hierarchy)"
   ]
  },
  {
   "cell_type": "code",
   "execution_count": 15,
   "id": "ee26a5db-7f4a-466d-a60f-8cbd7ae077ff",
   "metadata": {
    "pycharm": {
     "name": "#%%\n"
    }
   },
   "outputs": [
    {
     "name": "stdout",
     "output_type": "stream",
     "text": [
      "level 1 contains ['Animal', 'Music', 'Human sounds', 'Natural sounds']\n",
      "level 2 contains ['Alarm', 'Bell', 'Engine', 'Explosion', 'Fire', 'Glass', 'Hands', 'Heart sounds, heartbeat', 'Human voice', 'Liquid', 'Mechanisms', 'Thunderstorm', 'Tools', 'Vehicle', 'Water', 'Wind', 'Wood', 'Digestive', 'Domestic animals, pets', 'Domestic sounds, home sounds', 'Musical instrument', 'Respiratory sounds', 'Whistling', 'Wild animals']\n",
      "level 3 contains ['Accelerating, revving, vroom', 'Accordion', 'Air conditioning', 'Air horn, truck horn', 'Aircraft', 'Alarm clock', 'Applause', 'Arrow', 'Bathtub (filling or washing)', 'Bell', 'Bicycle bell', 'Bird', 'Blender', 'Boat, Water vehicle', 'Boiling', 'Boom', 'Bowed string instrument', 'Brass instrument', 'Breathing', 'Burping, eructation', 'Burst, pop', 'Buzzer', 'Camera', 'Car alarm', 'Cash register', 'Cat', 'Cattle, bovinae', 'Chatter', 'Cheering', 'Chewing, mastication', 'Children playing', 'Children shouting', 'Chime', 'Chink, clink', 'Choir', 'Chop', 'Chopping (food)', 'Church bell', 'Clapping', 'Clock', 'Coin (dropping)', 'Cough', 'Cowbell', 'Crack', 'Crackle', 'Crowd', 'Crumpling, crinkling', 'Crushing', 'Crying, sobbing', 'Cupboard open or close', 'Cutlery, silverware', 'Didgeridoo', 'Dishes, pots, and pans', 'Dog', 'Door', 'Doorbell', 'Drawer open or close', 'Drip', 'Electric shaver, electric razor', 'Engine starting', 'Fart', 'Filing (rasp)', 'Fill (with liquid)', 'Finger snapping', 'Fire alarm', 'Fireworks', 'Foghorn', 'Frog', 'Frying (food)', 'Gargling', 'Gears', 'Goat', 'Grunt', 'Gunshot, gunfire', 'Gurgling', 'Hair dryer', 'Hammer', 'Harmonica', 'Harp', 'Hiss', 'Horse', 'Howl (wind)', 'Hubbub, speech noise, speech babble', 'Idling', 'Insect', 'Jackhammer', 'Jingle bell', 'Keyboard (musical)', 'Keys jangling', 'Knock', 'Laughter', 'Light engine (high frequency)', 'Mechanical fan', 'Medium engine (mid frequency)', 'Microwave oven', 'Motor vehicle (road)', 'Ocean', 'Orchestra', 'Packing tape, duct tape', 'Percussion', 'Pig', 'Plucked string instrument', 'Power tool', 'Printer', 'Pulleys', 'Rain', 'Ratchet, pawl', 'Rattle', 'Rodents, rats, mice', 'Run', 'Rustling leaves', 'Sanding', 'Sawing', 'Scissors', 'Scratching (performance technique)', 'Screaming', 'Sewing machine', 'Shatter', 'Sheep', 'Shout', 'Shuffling cards', 'Sigh', 'Singing', 'Singing bowl', 'Sink (filling or washing)', 'Siren', 'Snap', 'Sneeze', 'Sniff', 'Speech', 'Splash, splatter', 'Splinter', 'Spray', 'Squish', 'Steam', 'Stir', 'Stream', 'Tap', 'Tearing', 'Telephone', 'Theremin', 'Thump, thud', 'Thunder', 'Toilet flush', 'Toothbrush', 'Typing', 'Vacuum cleaner', 'Vehicle horn, car horn, honking', 'Velcro, hook and loop fastener', 'Wail, moan', 'Walk, footsteps', 'Water tap, faucet', 'Waterfall', 'Whispering', 'Whoosh, swoosh, swish', 'Wind instrument, woodwind instrument', 'Wind noise (microphone)', 'Writing', 'Yawn', 'Zipper (clothing)', 'Biting', 'Booing', 'Clicking', 'Pour', 'Rail transport', 'Stomach rumble', 'Whistle', 'Wildfire']\n",
      "level 4 contains ['Aircraft engine', 'Ambulance (siren)', 'Artillery fire', 'Babbling', 'Baby cry, infant cry', 'Baby laughter', 'Bark', 'Bassoon', 'Battle cry', 'Bee, wasp, etc.', 'Bicycle', 'Bicycle bell', 'Bird flight, flapping wings', 'Bird vocalization, bird call, bird song', 'Bleat', 'Bus', 'Busy signal', 'Buzz', 'Cap gun', 'Car', 'Cello', 'Cellphone buzz, vibrating alert', 'Chainsaw', 'Chant', 'Chicken, rooster', 'Child singing', 'Child speech, kid speaking', 'Children shouting', 'Chime', 'Chipmunk', 'Chirp, tweet', 'Choir', 'Chuckle, chortle', 'Church bell', 'Civil defense siren', 'Clarinet', 'Clip-clop', 'Clunk', 'Computer keyboard', 'Conversation', 'Cowbell', 'Cricket', 'Croak', 'Crow', 'Cymbal', \"Dental drill, dentist's drill\", 'Dial tone', 'Ding-dong', 'Doorbell', 'Double bass', 'Drill', 'Drum', 'Drum kit', 'Duck', 'Electric toothbrush', 'Emergency vehicle', 'Female singing', 'Female speech, woman speaking', 'Fire engine, fire truck (siren)', 'Firecracker', 'Fixed-wing aircraft, airplane', 'Flute', 'Fly, housefly', 'French horn', 'Fusillade', 'Gasp', 'Giggle', 'Gong', 'Goose', 'Growling', 'Guitar', 'Gull, seagull', 'Harpsichord', 'Helicopter', 'Hiss', 'Howl', 'Jingle bell', 'Knock', 'Lawn mower', 'Machine gun', 'Male singing', 'Male speech, man speaking', 'Mallet percussion', 'Meow', 'Moo', 'Mosquito', 'Motorcycle', 'Mouse', 'Narration, monologue', 'Neigh, whinny', 'Oboe', 'Oink', 'Organ', 'Owl', 'Pant', 'Piano', 'Pigeon, dove', 'Police car (siren)', 'Purr', 'Rain on surface', 'Raindrop', 'Rapping', 'Rattle', 'Rattle (instrument)', 'Ringtone', 'Roar', 'Sailboat, sailing ship', 'Saxophone', 'Screech', 'Ship', 'Sitar', 'Skateboard', 'Slam', 'Sliding door', 'Slosh', 'Snicker', 'Snoring', 'Snort (horse)', 'Speech synthesizer', 'Squeak', 'Steam whistle', 'Subway, metro, underground', 'Synthetic singing', 'Tambourine', 'Tap', 'Telephone bell ringing', 'Telephone dialing, DTMF', 'Throat clearing', 'Thump, thud', 'Thunk', 'Tick', 'Tick-tock', 'Toot', 'Traffic noise, roadway noise', 'Train', 'Trickle, dribble', 'Trombone', 'Truck', 'Trumpet', 'Tubular bells', 'Turkey', 'Typewriter', 'Ukulele', 'Violin, fiddle', 'Waves, surf', 'Whoop', 'Whoosh, swoosh, swish', 'Wind chime', 'Yell', 'Yip', 'Yodeling', 'Belly laugh', 'Cat communication', 'Caterwaul', 'Synthesizer', 'Whimper (dog)', 'Wobble']\n",
      "level 5 contains ['Acoustic guitar', 'Air horn, truck horn', 'Alto saxophone', 'Ambulance (siren)', 'Bass drum', 'Bass guitar', 'Bicycle bell', 'Buzz', 'Car alarm', 'Car passing by', 'Caw', 'Chirp, tweet', 'Cluck', 'Clunk', 'Coo', 'Crash cymbal', 'Crowing, cock-a-doodle-doo', \"Dental drill, dentist's drill\", 'Ding-dong', 'Electric guitar', 'Electric piano', 'Electronic organ', 'Fire engine, fire truck (siren)', 'Glockenspiel', 'Hammond organ', 'Hi-hat', 'Honk', 'Hoot', 'Mantra', 'Maraca', 'Marimba, xylophone', 'Pizzicato', 'Police car (siren)', 'Power windows, electric windows', 'Quack', 'Race car, auto racing', 'Skidding', 'Snare drum', 'Soprano saxophone', 'Squawk', 'Steel guitar, slide guitar', 'Strum', 'Tabla', 'Thunk', 'Timpani', 'Train horn', 'Train whistle', 'Vehicle horn, car horn, honking', 'Vibraphone', 'Wind chime', 'Wind noise (microphone)', 'Tire squeal']\n",
      "level 6 contains ['Drum roll', 'Rhodes piano', 'Rimshot', 'Toot']\n"
     ]
    }
   ],
   "source": [
    "def id2label(hierarchy):\n",
    "    collection_labels = {}\n",
    "    for level in hierarchy:\n",
    "        tmp = []\n",
    "        for cls in hierarchy[level]:\n",
    "            tmp.append(voc[cls]['name'])\n",
    "\n",
    "        collection_labels[level] = tmp\n",
    "    \n",
    "    return collection_labels\n",
    "\n",
    "collection_hierarchy_id = id2label(collection_hierarchy)\n",
    "for level in collection_hierarchy_id:\n",
    "    print('level {} contains {}'.format(level,  collection_hierarchy_id[level]))"
   ]
  },
  {
   "cell_type": "code",
   "execution_count": 16,
   "id": "b3741102-6cf1-4bb2-b315-49006f89ff8b",
   "metadata": {
    "pycharm": {
     "name": "#%%\n"
    }
   },
   "outputs": [
    {
     "name": "stdout",
     "output_type": "stream",
     "text": [
      "The intersection between 2 and 3 is {'/m/0395lw'} (n=1)\n",
      "The intersection between 3 and 4 is {'/m/0f8s22', '/m/03w41f', '/m/07rqsjt', '/m/07rjwbb', '/t/dd00135', '/m/0l14jd', '/m/07qcpgn', '/m/0239kh', '/m/027m70_', '/m/07r4wb8', '/m/0gy1t2s', '/m/03wwcy', '/m/07qnq_y', '/m/07qn4z3'} (n=14)\n",
      "The intersection between 3 and 5 is {'/m/0912c9', '/m/02mfyn', '/m/05x_td', '/t/dd00092', '/m/0gy1t2s'} (n=5)\n",
      "The intersection between 4 and 5 is {'/m/012ndj', '/m/07pggtn', '/m/026fgl', '/m/08j51y', '/m/07rrh0c', '/m/07r67yg', '/m/07pjwq1', '/t/dd00108', '/m/0gy1t2s', '/m/04qvtq', '/m/012n7d'} (n=11)\n",
      "31\n"
     ]
    },
    {
     "data": {
      "text/plain": "{'2&3': ['Bell'],\n '3&4': ['Chime',\n  'Church bell',\n  'Whoosh, swoosh, swish',\n  'Hiss',\n  'Children shouting',\n  'Choir',\n  'Tap',\n  'Cowbell',\n  'Jingle bell',\n  'Knock',\n  'Bicycle bell',\n  'Doorbell',\n  'Thump, thud',\n  'Rattle'],\n '3&5': ['Vehicle horn, car horn, honking',\n  'Car alarm',\n  'Air horn, truck horn',\n  'Wind noise (microphone)',\n  'Bicycle bell'],\n '4&5': ['Fire engine, fire truck (siren)',\n  'Chirp, tweet',\n  'Wind chime',\n  \"Dental drill, dentist's drill\",\n  'Thunk',\n  'Ding-dong',\n  'Buzz',\n  'Clunk',\n  'Bicycle bell',\n  'Police car (siren)',\n  'Ambulance (siren)']}"
     },
     "execution_count": 16,
     "metadata": {},
     "output_type": "execute_result"
    }
   ],
   "source": [
    "collection_structure = check_multipath(collection_hierarchy)\n",
    "id2label(collection_structure)"
   ]
  },
  {
   "cell_type": "code",
   "execution_count": 17,
   "id": "721d7b95-cfd1-42f0-8221-e5204a066385",
   "metadata": {
    "pycharm": {
     "name": "#%%\n"
    }
   },
   "outputs": [
    {
     "data": {
      "text/plain": "{'2&3': ['Bell'],\n '3&4': ['Tuning fork',\n  'Chime',\n  'Kettle whistle',\n  'Church bell',\n  'Whoosh, swoosh, swish',\n  'Hiss',\n  'Rattle',\n  'Children shouting',\n  'Choir',\n  'Tap',\n  'Cowbell',\n  'Jingle bell',\n  'Knock',\n  'Bicycle bell',\n  'Doorbell',\n  'Thump, thud',\n  'Change ringing (campanology)'],\n '3&5': ['Vehicle horn, car horn, honking',\n  'Car alarm',\n  'Jet engine',\n  'Air horn, truck horn',\n  'Wind noise (microphone)',\n  'Bicycle bell'],\n '4&5': ['Fire engine, fire truck (siren)',\n  'Chirp, tweet',\n  'Wind chime',\n  \"Dental drill, dentist's drill\",\n  'Thunk',\n  'Ding-dong',\n  'Buzz',\n  'Clunk',\n  'Bicycle bell',\n  'Police car (siren)',\n  'Ambulance (siren)']}"
     },
     "execution_count": 17,
     "metadata": {},
     "output_type": "execute_result"
    }
   ],
   "source": [
    "id2label(as_intersection)"
   ]
  },
  {
   "cell_type": "code",
   "execution_count": 18,
   "id": "19020394-5b3a-434c-9e0c-392cb06785e6",
   "metadata": {
    "pycharm": {
     "name": "#%%\n"
    }
   },
   "outputs": [
    {
     "name": "stdout",
     "output_type": "stream",
     "text": [
      "level 1 contains ['Human sounds', 'Animal', 'Music', 'Natural sounds', 'Sounds of things', 'Source-ambiguous sounds', 'Channel, environment and background']\n",
      "level 2 contains ['Human voice', 'Whistling', 'Respiratory sounds', 'Human locomotion', 'Digestive', 'Hands', 'Heart sounds, heartbeat', 'Otoacoustic emission', 'Human group actions', 'Domestic animals, pets', 'Livestock, farm animals, working animals', 'Wild animals', 'Musical instrument', 'Bell', 'Music genre', 'Musical concepts', 'Music role', 'Music mood', 'Wind', 'Thunderstorm', 'Water', 'Fire', 'Vehicle', 'Engine', 'Domestic sounds, home sounds', 'Alarm', 'Mechanisms', 'Tools', 'Explosion', 'Wood', 'Glass', 'Liquid', 'Miscellaneous sources', 'Specific impact sounds', 'Generic impact sounds', 'Surface contact', 'Deformable shell', 'Onomatopoeia', 'Silence', 'Other sourceless', 'Acoustic environment', 'Noise', 'Sound reproduction']\n",
      "level 3 contains ['Speech', 'Shout', 'Children shouting', 'Screaming', 'Whispering', 'Laughter', 'Crying, sobbing', 'Wail, moan', 'Sigh', 'Singing', 'Choir', 'Humming', 'Groan', 'Grunt', 'Yawn', 'Wolf-whistling', 'Breathing', 'Cough', 'Sneeze', 'Sniff', 'Run', 'Shuffle', 'Walk, footsteps', 'Chewing, mastication', 'Biting', 'Gargling', 'Stomach rumble', 'Burping, eructation', 'Hiccup', 'Fart', 'Finger snapping', 'Clapping', 'Heart murmur', 'Tinnitus, ringing in the ears', 'Cheering', 'Applause', 'Chatter', 'Crowd', 'Hubbub, speech noise, speech babble', 'Booing', 'Children playing', 'Dog', 'Cat', 'Hiss', 'Horse', 'Donkey, ass', 'Cattle, bovinae', 'Cowbell', 'Pig', 'Goat', 'Sheep', 'Fowl', 'Roaring cats (lions, tigers)', 'Bird', 'Canidae, dogs, wolves', 'Rodents, rats, mice', 'Insect', 'Frog', 'Snake', 'Rattle', 'Whale vocalization', 'Plucked string instrument', 'Keyboard (musical)', 'Percussion', 'Orchestra', 'Brass instrument', 'Bowed string instrument', 'Wind instrument, woodwind instrument', 'Harp', 'Bell', 'Church bell', 'Jingle bell', 'Bicycle bell', 'Tuning fork', 'Chime', 'Change ringing (campanology)', 'Harmonica', 'Accordion', 'Bagpipes', 'Didgeridoo', 'Shofar', 'Theremin', 'Singing bowl', 'Musical ensemble', 'Bass (instrument role)', 'Scratching (performance technique)', 'Pop music', 'Hip hop music', 'Rock music', 'Rhythm and blues', 'Soul music', 'Reggae', 'Country', 'Funk', 'Folk music', 'Middle Eastern music', 'Jazz', 'Disco', 'Classical music', 'Electronic music', 'Music of Latin America', 'Blues', 'Music for children', 'New-age music', 'Vocal music', 'Music of Africa', 'Christian music', 'Music of Asia', 'Ska', 'Traditional music', 'Independent music', 'Song', 'Melody', 'Musical note', 'Beat', 'Chord', 'Harmony', 'Bassline', 'Loop', 'Drone', 'Background music', 'Theme music', 'Jingle (music)', 'Soundtrack music', 'Lullaby', 'Video game music', 'Christmas music', 'Dance music', 'Wedding music', 'Birthday music', 'Happy music', 'Funny music', 'Sad music', 'Tender music', 'Exciting music', 'Angry music', 'Scary music', 'Howl (wind)', 'Rustling leaves', 'Wind noise (microphone)', 'Thunder', 'Rain', 'Stream', 'Waterfall', 'Ocean', 'Steam', 'Gurgling', 'Crackle', 'Wildfire', 'Boat, Water vehicle', 'Motor vehicle (road)', 'Vehicle horn, car horn, honking', 'Car alarm', 'Air horn, truck horn', 'Rail transport', 'Aircraft', 'Jet engine', 'Non-motorized land vehicle', 'Light engine (high frequency)', 'Medium engine (mid frequency)', 'Heavy engine (low frequency)', 'Engine knocking', 'Engine starting', 'Idling', 'Accelerating, revving, vroom', 'Door', 'Doorbell', 'Knock', 'Tap', 'Cupboard open or close', 'Drawer open or close', 'Dishes, pots, and pans', 'Cutlery, silverware', 'Chopping (food)', 'Frying (food)', 'Microwave oven', 'Blender', 'Kettle whistle', 'Water tap, faucet', 'Sink (filling or washing)', 'Bathtub (filling or washing)', 'Hair dryer', 'Toilet flush', 'Toothbrush', 'Vacuum cleaner', 'Zipper (clothing)', 'Velcro, hook and loop fastener', 'Keys jangling', 'Coin (dropping)', 'Packing tape, duct tape', 'Scissors', 'Electric shaver, electric razor', 'Shuffling cards', 'Typing', 'Writing', 'Telephone', 'Alarm clock', 'Siren', 'Buzzer', 'Smoke detector, smoke alarm', 'Fire alarm', 'Foghorn', 'Whistle', 'Ratchet, pawl', 'Clock', 'Gears', 'Pulleys', 'Sewing machine', 'Mechanical fan', 'Air conditioning', 'Cash register', 'Printer', 'Camera', 'Hammer', 'Jackhammer', 'Sawing', 'Filing (rasp)', 'Sanding', 'Power tool', 'Gunshot, gunfire', 'Fireworks', 'Burst, pop', 'Eruption', 'Boom', 'Chop', 'Splinter', 'Crack', 'Snap', 'Chink, clink', 'Shatter', 'Splash, splatter', 'Squish', 'Drip', 'Pour', 'Fill (with liquid)', 'Spray', 'Pump (liquid)', 'Stir', 'Boiling', 'Sonar', 'Duck call (hunting tool)', 'Arrow', 'Whoosh, swoosh, swish', 'Thump, thud', 'Sound equipment', 'Basketball bounce', 'Bang', 'Slap, smack', 'Whack, thwack', 'Smash, crash', 'Breaking', 'Bouncing', 'Whip', 'Flap', 'Scratch', 'Scrape', 'Rub', 'Roll', 'Grind', 'Crushing', 'Crumpling, crinkling', 'Tearing', 'Brief tone', 'Creak', 'Rustle', 'Whir', 'Clatter', 'Sizzle', 'Clicking', 'Rumble', 'Blare', 'Plop', 'Jingle, tinkle', 'Fizz', 'Puff', 'Hum', 'Zing', 'Boing', 'Crunch', 'Sine wave', 'Sound effect', 'Pulse', 'Infrasound', 'Bass (frequency range)', 'Ringing (of resonator)', 'Inside, small room', 'Inside, large room or hall', 'Inside, public space', 'Outside, urban or manmade', 'Outside, rural or natural', 'Reverberation', 'Echo', 'Background noise', 'Cacophony', 'White noise', 'Pink noise', 'Throbbing', 'Vibration', 'Television', 'Radio', 'Loudspeaker', 'Headphones', 'Recording', 'Gramophone record', 'Compact disc', 'MP3']\n",
      "level 4 contains ['Male speech, man speaking', 'Female speech, woman speaking', 'Child speech, kid speaking', 'Conversation', 'Narration, monologue', 'Babbling', 'Speech synthesizer', 'Bellow', 'Whoop', 'Yell', 'Battle cry', 'Children shouting', 'Baby laughter', 'Giggle', 'Snicker', 'Belly laugh', 'Chuckle, chortle', 'Baby cry, infant cry', 'Whimper', 'Choir', 'Yodeling', 'Chant', 'Male singing', 'Female singing', 'Child singing', 'Synthetic singing', 'Rapping', 'Wheeze', 'Snoring', 'Gasp', 'Pant', 'Snort', 'Throat clearing', 'Bark', 'Yip', 'Howl', 'Bow-wow', 'Growling', 'Whimper (dog)', 'Bay', 'Purr', 'Meow', 'Hiss', 'Cat communication', 'Caterwaul', 'Clip-clop', 'Neigh, whinny', 'Snort (horse)', 'Nicker', 'Moo', 'Cowbell', 'Yak', 'Oink', 'Bleat', 'Chicken, rooster', 'Turkey', 'Duck', 'Goose', 'Roar', 'Bird vocalization, bird call, bird song', 'Chirp, tweet', 'Pigeon, dove', 'Crow', 'Owl', 'Gull, seagull', 'Bird flight, flapping wings', 'Mouse', 'Chipmunk', 'Patter', 'Cricket', 'Mosquito', 'Fly, housefly', 'Buzz', 'Bee, wasp, etc.', 'Croak', 'Rattle', 'Guitar', 'Banjo', 'Sitar', 'Mandolin', 'Zither', 'Ukulele', 'Piano', 'Organ', 'Synthesizer', 'Harpsichord', 'Drum kit', 'Drum', 'Cymbal', 'Wood block', 'Tambourine', 'Rattle (instrument)', 'Gong', 'Tubular bells', 'Mallet percussion', 'French horn', 'Trumpet', 'Trombone', 'Cornet', 'Bugle', 'String section', 'Violin, fiddle', 'Cello', 'Double bass', 'Flute', 'Saxophone', 'Clarinet', 'Oboe', 'Bassoon', 'Church bell', 'Jingle bell', 'Bicycle bell', 'Tuning fork', 'Chime', 'Wind chime', 'Change ringing (campanology)', 'Grime music', 'Trap music', 'Beatboxing', 'Heavy metal', 'Punk rock', 'Grunge', 'Progressive rock', 'Rock and roll', 'Psychedelic rock', 'Dub', 'Swing music', 'Bluegrass', 'Opera', 'House music', 'Techno', 'Dubstep', 'Electro', 'Drum and bass', 'Electronica', 'Electronic dance music', 'Ambient music', 'Trance music', 'Noise music', 'UK garage', 'Cumbia', 'Salsa music', 'Soca music', 'Kuduro', 'Funk carioca', 'Flamenco', 'A capella', 'Afrobeat', 'Kwaito', 'Gospel music', 'Carnatic music', 'Music of Bollywood', 'Drum beat', 'Raindrop', 'Rain on surface', 'Waves, surf', 'Sailboat, sailing ship', 'Rowboat, canoe, kayak', 'Motorboat, speedboat', 'Ship', 'Car', 'Toot', 'Truck', 'Bus', 'Emergency vehicle', 'Police car (siren)', 'Ambulance (siren)', 'Fire engine, fire truck (siren)', 'Motorcycle', 'Traffic noise, roadway noise', 'Train', 'Railroad car, train wagon', 'Train wheels squealing', 'Subway, metro, underground', 'Aircraft engine', 'Helicopter', 'Fixed-wing aircraft, airplane', 'Bicycle', 'Skateboard', \"Dental drill, dentist's drill\", 'Lawn mower', 'Chainsaw', 'Doorbell', 'Ding-dong', 'Sliding door', 'Slam', 'Knock', 'Tap', 'Squeak', 'Kettle whistle', 'Electric toothbrush', 'Typewriter', 'Computer keyboard', 'Telephone bell ringing', 'Ringtone', 'Cellphone buzz, vibrating alert', 'Telephone dialing, DTMF', 'Dial tone', 'Busy signal', 'Civil defense siren', 'Steam whistle', 'Tick', 'Tick-tock', 'Single-lens reflex camera', 'Drill', 'Machine gun', 'Fusillade', 'Artillery fire', 'Cap gun', 'Firecracker', 'Sonic boom', 'Slosh', 'Trickle, dribble', 'Gush', 'Whoosh, swoosh, swish', 'Thump, thud', 'Thunk', 'Clunk', 'Wobble', 'Microphone', 'Electronic tuner', 'Guitar amplifier', 'Effects unit', 'Beep, bleep', 'Ping', 'Ding', 'Clang', 'Twang', 'Squeal', 'Screech', 'Clickety-clack', 'Harmonic', 'Chirp tone', 'Environmental noise', 'Tape hiss', 'Static', 'Mains hum', 'Distortion', 'Sidetone', 'Field recording']\n",
      "level 5 contains ['Mantra', 'Cluck', 'Crowing, cock-a-doodle-doo', 'Gobble', 'Quack', 'Honk', 'Chirp, tweet', 'Squawk', 'Coo', 'Caw', 'Hoot', 'Buzz', 'Electric guitar', 'Bass guitar', 'Acoustic guitar', 'Steel guitar, slide guitar', 'Tapping (guitar technique)', 'Strum', 'Electric piano', 'Electronic organ', 'Hammond organ', 'Sampler', 'Mellotron', 'Drum machine', 'Snare drum', 'Bass drum', 'Timpani', 'Tabla', 'Hi-hat', 'Crash cymbal', 'Maraca', 'Marimba, xylophone', 'Glockenspiel', 'Vibraphone', 'Steelpan', 'Pizzicato', 'Alto saxophone', 'Soprano saxophone', 'Bicycle bell', 'Wind chime', 'Oldschool jungle', 'Drone music', 'Wind noise (microphone)', 'Vehicle horn, car horn, honking', 'Car alarm', 'Power windows, electric windows', 'Skidding', 'Tire squeal', 'Car passing by', 'Race car, auto racing', 'Air brake', 'Air horn, truck horn', 'Reversing beeps', 'Ice cream truck, ice cream van', 'Police car (siren)', 'Ambulance (siren)', 'Fire engine, fire truck (siren)', 'Train whistle', 'Train horn', 'Jet engine', 'Propeller, airscrew', \"Dental drill, dentist's drill\", 'Ding-dong', 'Thunk', 'Clunk', 'Chorus effect']\n",
      "level 6 contains ['Clavinet', 'Rhodes piano', 'Rimshot', 'Drum roll', 'Toot']\n"
     ]
    }
   ],
   "source": [
    "as_hierarchy_labels = id2label(as_hierarchy)\n",
    "\n",
    "for level in as_hierarchy_labels:\n",
    "    print('level {} contains {}'.format(level, as_hierarchy_labels[level]))"
   ]
  },
  {
   "cell_type": "code",
   "execution_count": 19,
   "id": "11fe0399-9982-4d49-a637-d0753a276336",
   "metadata": {
    "tags": [],
    "pycharm": {
     "name": "#%%\n"
    }
   },
   "outputs": [
    {
     "name": "stdout",
     "output_type": "stream",
     "text": [
      "Animal contains 60 classes\n",
      "Music contains 76 classes\n",
      "Human sounds contains 69 classes\n",
      "Natural sounds contains 21 classes\n"
     ]
    }
   ],
   "source": [
    "ancestor_branches = {}\n",
    "for ancestor in collection_hierarchy[1]:\n",
    "    ancestor_branches[ancestor] = []\n",
    "    for id in collection_voc:\n",
    "        if ancestor in collection_voc[id]['ancestor_id'] and id not in ancestor_branches[ancestor]: ancestor_branches[ancestor].append(id)\n",
    "        \n",
    "# print(ancestor_branches)\n",
    "for ancestor in ancestor_branches:\n",
    "    print('{} contains {} classes'.format(collection_voc[ancestor]['name'], len(ancestor_branches[ancestor])))"
   ]
  },
  {
   "cell_type": "code",
   "execution_count": 20,
   "id": "b89d0e96-f262-4544-a8c4-5b75a3f7ff29",
   "metadata": {
    "pycharm": {
     "name": "#%%\n"
    }
   },
   "outputs": [
    {
     "name": "stdout",
     "output_type": "stream",
     "text": [
      "{'/m/07q2z82': {'name': 'Accelerating, revving, vroom', 'child_ids': [], 'restrictions': [], 'parent_ids': ['/m/02mk9'], 'hierarchy': [3], 'ancestor_id': ['/t/dd00041']}, '/m/0mkg': {'name': 'Accordion', 'child_ids': [], 'restrictions': [], 'parent_ids': ['/m/04szw'], 'hierarchy': [3], 'ancestor_id': ['/m/04rlf']}, '/m/042v_gx': {'name': 'Acoustic guitar', 'child_ids': [], 'restrictions': [], 'parent_ids': ['/m/0342h'], 'hierarchy': [5], 'ancestor_id': ['/m/04rlf']}, '/m/025wky1': {'name': 'Air conditioning', 'child_ids': [], 'restrictions': [], 'parent_ids': ['/t/dd00077'], 'hierarchy': [3], 'ancestor_id': ['/t/dd00041']}, '/m/05x_td': {'name': 'Air horn, truck horn', 'child_ids': [], 'restrictions': [], 'parent_ids': ['/m/07r04', '/m/07pp_mv'], 'hierarchy': [3, 5], 'ancestor_id': ['/t/dd00041']}, '/m/0k5j': {'name': 'Aircraft', 'child_ids': ['/m/014yck', '/m/09ct_', '/m/0cmf2'], 'restrictions': [], 'parent_ids': ['/m/07yv9'], 'hierarchy': [3], 'ancestor_id': ['/t/dd00041']}, '/m/014yck': {'name': 'Aircraft engine', 'child_ids': ['/m/04229', '/m/02l6bg'], 'restrictions': [], 'parent_ids': ['/m/0k5j'], 'hierarchy': [4], 'ancestor_id': ['/t/dd00041']}, '/m/07pp_mv': {'name': 'Alarm', 'child_ids': ['/m/07cx4', '/m/046dlr', '/m/03kmc9', '/m/03wwcy', '/m/030rvx', '/m/01y3hg', '/m/0c3f7m', '/m/02mfyn', '/m/0912c9', '/m/0gy1t2s', '/m/05x_td', '/m/04fq5q', '/m/0l156k'], 'restrictions': [], 'parent_ids': ['/t/dd00041'], 'hierarchy': [2], 'ancestor_id': ['/t/dd00041']}, '/m/046dlr': {'name': 'Alarm clock', 'child_ids': [], 'restrictions': [], 'parent_ids': ['/m/07pp_mv'], 'hierarchy': [3], 'ancestor_id': ['/t/dd00041']}, '/m/02pprs': {'name': 'Alto saxophone', 'child_ids': [], 'restrictions': ['blacklist'], 'parent_ids': ['/m/06ncr'], 'hierarchy': [5], 'ancestor_id': ['/m/04rlf']}, '/m/012n7d': {'name': 'Ambulance (siren)', 'child_ids': [], 'restrictions': [], 'parent_ids': ['/m/03j1ly', '/m/03kmc9'], 'hierarchy': [4, 5], 'ancestor_id': ['/t/dd00041']}, '/m/0jbk': {'name': 'Animal', 'child_ids': ['/m/068hy', '/m/0ch8v', '/m/01280g'], 'restrictions': [], 'parent_ids': [], 'hierarchy': [1], 'ancestor_id': ['/m/0jbk']}, '/m/028ght': {'name': 'Applause', 'child_ids': [], 'restrictions': [], 'parent_ids': ['/t/dd00012'], 'hierarchy': [3], 'ancestor_id': ['/m/0dgw9r']}, '/m/0dl83': {'name': 'Arrow', 'child_ids': ['/m/07rqsjt', '/m/07qnq_y', '/m/07pk7mg'], 'restrictions': [], 'parent_ids': ['/t/dd00089'], 'hierarchy': [3], 'ancestor_id': ['/t/dd00041']}, '/m/0_1c': {'name': 'Artillery fire', 'child_ids': [], 'restrictions': [], 'parent_ids': ['/m/032s66'], 'hierarchy': [4], 'ancestor_id': ['/t/dd00041']}, '/m/0261r1': {'name': 'Babbling', 'child_ids': [], 'restrictions': [], 'parent_ids': ['/m/09x0r'], 'hierarchy': [4], 'ancestor_id': ['/m/0dgw9r']}, '/t/dd00002': {'name': 'Baby cry, infant cry', 'child_ids': [], 'restrictions': [], 'parent_ids': ['/m/0463cq4'], 'hierarchy': [4], 'ancestor_id': ['/m/0dgw9r']}, '/t/dd00001': {'name': 'Baby laughter', 'child_ids': [], 'restrictions': [], 'parent_ids': ['/m/01j3sz'], 'hierarchy': [4], 'ancestor_id': ['/m/0dgw9r']}, '/m/05tny_': {'name': 'Bark', 'child_ids': [], 'restrictions': [], 'parent_ids': ['/m/0bt9lr'], 'hierarchy': [4], 'ancestor_id': ['/m/0jbk']}, '/m/0bm02': {'name': 'Bass drum', 'child_ids': [], 'restrictions': [], 'parent_ids': ['/m/026t6'], 'hierarchy': [5], 'ancestor_id': ['/m/04rlf']}, '/m/018vs': {'name': 'Bass guitar', 'child_ids': [], 'restrictions': [], 'parent_ids': ['/m/0342h'], 'hierarchy': [5], 'ancestor_id': ['/m/04rlf']}, '/m/01c3q': {'name': 'Bassoon', 'child_ids': [], 'restrictions': [], 'parent_ids': ['/m/085jw'], 'hierarchy': [4], 'ancestor_id': ['/m/04rlf']}, '/m/03dnzn': {'name': 'Bathtub (filling or washing)', 'child_ids': [], 'restrictions': [], 'parent_ids': ['/t/dd00071'], 'hierarchy': [3], 'ancestor_id': ['/t/dd00041']}, '/m/04gy_2': {'name': 'Battle cry', 'child_ids': [], 'restrictions': [], 'parent_ids': ['/m/07p6fty'], 'hierarchy': [4], 'ancestor_id': ['/m/0dgw9r']}, '/m/01h3n': {'name': 'Bee, wasp, etc.', 'child_ids': ['/m/07pjwq1'], 'restrictions': [], 'parent_ids': ['/m/03vt0'], 'hierarchy': [4], 'ancestor_id': ['/m/0jbk']}, '/m/0395lw': {'name': 'Bell', 'child_ids': ['/m/03w41f', '/m/0239kh', '/m/027m70_', '/m/0gy1t2s', '/m/07n_g', '/m/0f8s22', '/m/0150b9'], 'restrictions': [], 'parent_ids': ['/m/04szw', '/t/dd00041'], 'hierarchy': [2, 3], 'ancestor_id': ['/m/04rlf', '/t/dd00041']}, '/m/0199g': {'name': 'Bicycle', 'child_ids': ['/m/0gy1t2s'], 'restrictions': [], 'parent_ids': ['/t/dd00061'], 'hierarchy': [4], 'ancestor_id': ['/t/dd00041']}, '/m/0gy1t2s': {'name': 'Bicycle bell', 'child_ids': [], 'restrictions': [], 'parent_ids': ['/m/0395lw', '/m/0199g', '/m/07pp_mv'], 'hierarchy': [3, 4, 5], 'ancestor_id': ['/m/04rlf', '/t/dd00041']}, '/m/015p6': {'name': 'Bird', 'child_ids': ['/m/020bb7', '/m/0h0rv', '/m/04s8yn', '/m/09d5_', '/m/01dwxx', '/m/05_wcq'], 'restrictions': [], 'parent_ids': ['/m/01280g'], 'hierarchy': [3], 'ancestor_id': ['/m/0jbk']}, '/m/05_wcq': {'name': 'Bird flight, flapping wings', 'child_ids': [], 'restrictions': [], 'parent_ids': ['/m/015p6'], 'hierarchy': [4], 'ancestor_id': ['/m/0jbk']}, '/m/020bb7': {'name': 'Bird vocalization, bird call, bird song', 'child_ids': ['/m/07pggtn', '/m/07sx8x_'], 'restrictions': [], 'parent_ids': ['/m/015p6'], 'hierarchy': [4], 'ancestor_id': ['/m/0jbk']}, '/m/07q0h5t': {'name': 'Bleat', 'child_ids': [], 'restrictions': [], 'parent_ids': ['/m/03fwl', '/m/07bgp'], 'hierarchy': [4], 'ancestor_id': ['/m/0jbk']}, '/m/02pjr4': {'name': 'Blender', 'child_ids': [], 'restrictions': [], 'parent_ids': ['/t/dd00071'], 'hierarchy': [3], 'ancestor_id': ['/t/dd00041']}, '/m/019jd': {'name': 'Boat, Water vehicle', 'child_ids': ['/m/0hsrw', '/m/056ks2', '/m/02rlv9', '/m/06q74'], 'restrictions': [], 'parent_ids': ['/m/07yv9'], 'hierarchy': [3], 'ancestor_id': ['/t/dd00041']}, '/m/0dv3j': {'name': 'Boiling', 'child_ids': [], 'restrictions': [], 'parent_ids': ['/m/04k94'], 'hierarchy': [3], 'ancestor_id': ['/t/dd00041']}, '/m/07qqyl4': {'name': 'Boom', 'child_ids': ['/m/0193bn'], 'restrictions': [], 'parent_ids': ['/m/014zdl'], 'hierarchy': [3], 'ancestor_id': ['/t/dd00041']}, '/m/0l14_3': {'name': 'Bowed string instrument', 'child_ids': ['/m/02qmj0d', '/m/07y_7', '/m/01xqw', '/m/02fsn'], 'restrictions': [], 'parent_ids': ['/m/04szw'], 'hierarchy': [3], 'ancestor_id': ['/m/04rlf']}, '/m/01kcd': {'name': 'Brass instrument', 'child_ids': ['/m/0319l', '/m/07gql', '/m/07c6l', '/m/020w2', '/m/0y64j'], 'restrictions': [], 'parent_ids': ['/m/04szw'], 'hierarchy': [3], 'ancestor_id': ['/m/04rlf']}, '/m/0lyf6': {'name': 'Breathing', 'child_ids': ['/m/07mzm6', '/m/01d3sd', '/m/07s0dtb', '/m/07pyy8b', '/m/07q0yl5'], 'restrictions': [], 'parent_ids': ['/m/09hlz4'], 'hierarchy': [3], 'ancestor_id': ['/m/0dgw9r']}, '/m/03q5_w': {'name': 'Burping, eructation', 'child_ids': [], 'restrictions': [], 'parent_ids': ['/m/0160x5'], 'hierarchy': [3], 'ancestor_id': ['/m/0dgw9r']}, '/m/07qsvvw': {'name': 'Burst, pop', 'child_ids': [], 'restrictions': [], 'parent_ids': ['/m/014zdl'], 'hierarchy': [3], 'ancestor_id': ['/t/dd00041']}, '/m/01bjv': {'name': 'Bus', 'child_ids': [], 'restrictions': [], 'parent_ids': ['/m/012f08'], 'hierarchy': [4], 'ancestor_id': ['/t/dd00041']}, '/m/01z47d': {'name': 'Busy signal', 'child_ids': [], 'restrictions': [], 'parent_ids': ['/m/07cx4'], 'hierarchy': [4], 'ancestor_id': ['/t/dd00041']}, '/m/07pjwq1': {'name': 'Buzz', 'child_ids': [], 'restrictions': [], 'parent_ids': ['/m/0h2mp', '/m/01h3n', '/t/dd000138'], 'hierarchy': [4, 5], 'ancestor_id': ['/m/0jbk', '/t/dd00098']}, '/m/030rvx': {'name': 'Buzzer', 'child_ids': [], 'restrictions': [], 'parent_ids': ['/m/07pp_mv'], 'hierarchy': [3], 'ancestor_id': ['/t/dd00041']}, '/m/0dv5r': {'name': 'Camera', 'child_ids': ['/m/07bjf'], 'restrictions': [], 'parent_ids': ['/t/dd00077'], 'hierarchy': [3], 'ancestor_id': ['/t/dd00041']}, '/m/073cg4': {'name': 'Cap gun', 'child_ids': [], 'restrictions': [], 'parent_ids': ['/m/032s66'], 'hierarchy': [4], 'ancestor_id': ['/t/dd00041']}, '/m/0k4j': {'name': 'Car', 'child_ids': ['/m/0912c9', '/m/02mfyn', '/m/04gxbd', '/m/07rknqz', '/m/0h9mv', '/t/dd00134', '/m/0ltv'], 'restrictions': [], 'parent_ids': ['/m/012f08'], 'hierarchy': [4], 'ancestor_id': ['/t/dd00041']}, '/m/02mfyn': {'name': 'Car alarm', 'child_ids': [], 'restrictions': [], 'parent_ids': ['/m/0k4j', '/m/07pp_mv'], 'hierarchy': [3, 5], 'ancestor_id': ['/t/dd00041']}, '/t/dd00134': {'name': 'Car passing by', 'child_ids': [], 'restrictions': [], 'parent_ids': ['/m/0k4j'], 'hierarchy': [5], 'ancestor_id': ['/t/dd00041']}, '/m/024dl': {'name': 'Cash register', 'child_ids': [], 'restrictions': [], 'parent_ids': ['/t/dd00077'], 'hierarchy': [3], 'ancestor_id': ['/t/dd00041']}, '/m/01yrx': {'name': 'Cat', 'child_ids': ['/m/02yds9', '/m/07qrkrw', '/m/07rjwbb', '/m/0f25s6', '/m/07r81j2', '/m/0ghcn6'], 'restrictions': [], 'parent_ids': ['/m/068hy'], 'hierarchy': [3], 'ancestor_id': ['/m/0jbk']}, '/m/01xq0k1': {'name': 'Cattle, bovinae', 'child_ids': ['/m/07rpkh9', '/m/0239kh', '/m/01hhp3'], 'restrictions': [], 'parent_ids': ['/m/0ch8v'], 'hierarchy': [3], 'ancestor_id': ['/m/0jbk']}, '/m/07r5c2p': {'name': 'Caw', 'child_ids': [], 'restrictions': [], 'parent_ids': ['/m/04s8yn'], 'hierarchy': [5], 'ancestor_id': ['/m/0jbk']}, '/m/01xqw': {'name': 'Cello', 'child_ids': [], 'restrictions': [], 'parent_ids': ['/m/0l14_3'], 'hierarchy': [4], 'ancestor_id': ['/m/04rlf']}, '/m/01sb50': {'name': 'Cellphone buzz, vibrating alert', 'child_ids': [], 'restrictions': [], 'parent_ids': ['/m/07cx4'], 'hierarchy': [4], 'ancestor_id': ['/t/dd00041']}, '/m/01j4z9': {'name': 'Chainsaw', 'child_ids': [], 'restrictions': [], 'parent_ids': ['/t/dd00065'], 'hierarchy': [4], 'ancestor_id': ['/t/dd00041']}, '/m/02bk07': {'name': 'Chant', 'child_ids': ['/m/01c194'], 'restrictions': [], 'parent_ids': ['/m/015lz1', '/m/0y4f8'], 'hierarchy': [4], 'ancestor_id': ['/m/0dgw9r', '/m/04rlf']}, '/m/07rkbfh': {'name': 'Chatter', 'child_ids': [], 'restrictions': [], 'parent_ids': ['/t/dd00012'], 'hierarchy': [3], 'ancestor_id': ['/m/0dgw9r']}, '/m/053hz1': {'name': 'Cheering', 'child_ids': [], 'restrictions': [], 'parent_ids': ['/t/dd00012'], 'hierarchy': [3], 'ancestor_id': ['/m/0dgw9r']}, '/m/03cczk': {'name': 'Chewing, mastication', 'child_ids': [], 'restrictions': [], 'parent_ids': ['/m/0160x5'], 'hierarchy': [3], 'ancestor_id': ['/m/0dgw9r']}, '/m/09b5t': {'name': 'Chicken, rooster', 'child_ids': ['/m/07st89h', '/m/07qn5dc'], 'restrictions': [], 'parent_ids': ['/m/025rv6n'], 'hierarchy': [4], 'ancestor_id': ['/m/0jbk']}, '/t/dd00005': {'name': 'Child singing', 'child_ids': [], 'restrictions': [], 'parent_ids': ['/m/015lz1'], 'hierarchy': [4], 'ancestor_id': ['/m/0dgw9r']}, '/m/0ytgt': {'name': 'Child speech, kid speaking', 'child_ids': [], 'restrictions': [], 'parent_ids': ['/m/09x0r'], 'hierarchy': [4], 'ancestor_id': ['/m/0dgw9r']}, '/t/dd00013': {'name': 'Children playing', 'child_ids': [], 'restrictions': [], 'parent_ids': ['/t/dd00012'], 'hierarchy': [3], 'ancestor_id': ['/m/0dgw9r']}, '/t/dd00135': {'name': 'Children shouting', 'child_ids': [], 'restrictions': [], 'parent_ids': ['/m/07p6fty', '/t/dd00012'], 'hierarchy': [3, 4], 'ancestor_id': ['/m/0dgw9r']}, '/m/0f8s22': {'name': 'Chime', 'child_ids': ['/m/026fgl'], 'restrictions': [], 'parent_ids': ['/m/0395lw'], 'hierarchy': [3, 4], 'ancestor_id': ['/m/04rlf', '/t/dd00041']}, '/m/07q7njn': {'name': 'Chink, clink', 'child_ids': [], 'restrictions': [], 'parent_ids': ['/m/039jq'], 'hierarchy': [3], 'ancestor_id': ['/t/dd00041']}, '/m/02021': {'name': 'Chipmunk', 'child_ids': [], 'restrictions': [], 'parent_ids': ['/m/06hps'], 'hierarchy': [4], 'ancestor_id': ['/m/0jbk']}, '/m/07pggtn': {'name': 'Chirp, tweet', 'child_ids': [], 'restrictions': [], 'parent_ids': ['/m/020bb7', '/t/dd000138'], 'hierarchy': [4, 5], 'ancestor_id': ['/m/0jbk', '/t/dd00098']}, '/m/0l14jd': {'name': 'Choir', 'child_ids': [], 'restrictions': [], 'parent_ids': ['/m/015lz1', '/m/04szw'], 'hierarchy': [3, 4], 'ancestor_id': ['/m/0dgw9r', '/m/04rlf']}, '/m/07pczhz': {'name': 'Chop', 'child_ids': [], 'restrictions': [], 'parent_ids': ['/m/083vt'], 'hierarchy': [3], 'ancestor_id': ['/t/dd00041']}, '/m/07pn_8q': {'name': 'Chopping (food)', 'child_ids': [], 'restrictions': [], 'parent_ids': ['/t/dd00071'], 'hierarchy': [3], 'ancestor_id': ['/t/dd00041']}, '/m/07rgt08': {'name': 'Chuckle, chortle', 'child_ids': [], 'restrictions': [], 'parent_ids': ['/m/01j3sz'], 'hierarchy': [4], 'ancestor_id': ['/m/0dgw9r']}, '/m/03w41f': {'name': 'Church bell', 'child_ids': [], 'restrictions': [], 'parent_ids': ['/m/0395lw'], 'hierarchy': [3, 4], 'ancestor_id': ['/m/04rlf', '/t/dd00041']}, '/m/0dgbq': {'name': 'Civil defense siren', 'child_ids': [], 'restrictions': [], 'parent_ids': ['/m/03kmc9'], 'hierarchy': [4], 'ancestor_id': ['/t/dd00041']}, '/m/0l15bq': {'name': 'Clapping', 'child_ids': [], 'restrictions': [], 'parent_ids': ['/m/0k65p', '/t/dd00012'], 'hierarchy': [3], 'ancestor_id': ['/m/0dgw9r']}, '/m/01wy6': {'name': 'Clarinet', 'child_ids': [], 'restrictions': [], 'parent_ids': ['/m/085jw'], 'hierarchy': [4], 'ancestor_id': ['/m/04rlf']}, '/m/07rv9rh': {'name': 'Clip-clop', 'child_ids': [], 'restrictions': [], 'parent_ids': ['/m/03k3r', '/m/07qc9xj'], 'hierarchy': [4], 'ancestor_id': ['/m/0jbk', '/t/dd00098']}, '/m/01x3z': {'name': 'Clock', 'child_ids': ['/m/07qjznt', '/m/07qjznl'], 'restrictions': [], 'parent_ids': ['/t/dd00077'], 'hierarchy': [3], 'ancestor_id': ['/t/dd00041']}, '/m/07st89h': {'name': 'Cluck', 'child_ids': [], 'restrictions': [], 'parent_ids': ['/m/09b5t'], 'hierarchy': [5], 'ancestor_id': ['/m/0jbk']}, '/t/dd00108': {'name': 'Clunk', 'child_ids': [], 'restrictions': [], 'parent_ids': ['/m/07qnq_y'], 'hierarchy': [4, 5], 'ancestor_id': ['/t/dd00041', '/t/dd00098']}, '/m/0242l': {'name': 'Coin (dropping)', 'child_ids': [], 'restrictions': [], 'parent_ids': ['/t/dd00071'], 'hierarchy': [3], 'ancestor_id': ['/t/dd00041']}, '/m/01m2v': {'name': 'Computer keyboard', 'child_ids': [], 'restrictions': [], 'parent_ids': ['/m/0316dw'], 'hierarchy': [4], 'ancestor_id': ['/t/dd00041']}, '/m/01h8n0': {'name': 'Conversation', 'child_ids': [], 'restrictions': [], 'parent_ids': ['/m/09x0r'], 'hierarchy': [4], 'ancestor_id': ['/m/0dgw9r']}, '/m/07r_25d': {'name': 'Coo', 'child_ids': [], 'restrictions': [], 'parent_ids': ['/m/0h0rv'], 'hierarchy': [5], 'ancestor_id': ['/m/0jbk']}, '/m/01b_21': {'name': 'Cough', 'child_ids': ['/m/0dl9sf8'], 'restrictions': [], 'parent_ids': ['/m/09hlz4'], 'hierarchy': [3], 'ancestor_id': ['/m/0dgw9r']}, '/m/0239kh': {'name': 'Cowbell', 'child_ids': [], 'restrictions': [], 'parent_ids': ['/m/01xq0k1', '/m/0l14md', '/m/0395lw'], 'hierarchy': [3, 4], 'ancestor_id': ['/m/0jbk', '/m/04rlf', '/t/dd00041']}, '/m/07qs1cx': {'name': 'Crack', 'child_ids': [], 'restrictions': [], 'parent_ids': ['/m/083vt', '/m/05n1m'], 'hierarchy': [3], 'ancestor_id': ['/t/dd00041', '/t/dd00098']}, '/m/07pzfmf': {'name': 'Crackle', 'child_ids': [], 'restrictions': [], 'parent_ids': ['/m/02_41', '/m/05n1m'], 'hierarchy': [3], 'ancestor_id': ['/m/059j3w', '/t/dd00098']}, '/m/0bm0k': {'name': 'Crash cymbal', 'child_ids': [], 'restrictions': ['blacklist'], 'parent_ids': ['/m/01qbl'], 'hierarchy': [5], 'ancestor_id': ['/m/04rlf']}, '/m/09xqv': {'name': 'Cricket', 'child_ids': [], 'restrictions': [], 'parent_ids': ['/m/03vt0'], 'hierarchy': [4], 'ancestor_id': ['/m/0jbk']}, '/m/07st88b': {'name': 'Croak', 'child_ids': [], 'restrictions': [], 'parent_ids': ['/m/09ld4'], 'hierarchy': [4], 'ancestor_id': ['/m/0jbk']}, '/m/04s8yn': {'name': 'Crow', 'child_ids': ['/m/07r5c2p'], 'restrictions': [], 'parent_ids': ['/m/015p6'], 'hierarchy': [4], 'ancestor_id': ['/m/0jbk']}, '/m/03qtwd': {'name': 'Crowd', 'child_ids': [], 'restrictions': [], 'parent_ids': ['/t/dd00012'], 'hierarchy': [3], 'ancestor_id': ['/m/0dgw9r']}, '/m/07qn5dc': {'name': 'Crowing, cock-a-doodle-doo', 'child_ids': [], 'restrictions': [], 'parent_ids': ['/m/09b5t'], 'hierarchy': [5], 'ancestor_id': ['/m/0jbk']}, '/t/dd00112': {'name': 'Crumpling, crinkling', 'child_ids': [], 'restrictions': [], 'parent_ids': ['/t/dd00110'], 'hierarchy': [3], 'ancestor_id': ['/t/dd00098']}, '/m/07plct2': {'name': 'Crushing', 'child_ids': [], 'restrictions': [], 'parent_ids': ['/t/dd00110'], 'hierarchy': [3], 'ancestor_id': ['/t/dd00098']}, '/m/0463cq4': {'name': 'Crying, sobbing', 'child_ids': ['/t/dd00002', '/m/07qz6j3'], 'restrictions': [], 'parent_ids': ['/m/09l8g'], 'hierarchy': [3], 'ancestor_id': ['/m/0dgw9r']}, '/m/0642b4': {'name': 'Cupboard open or close', 'child_ids': [], 'restrictions': [], 'parent_ids': ['/t/dd00071'], 'hierarchy': [3], 'ancestor_id': ['/t/dd00041']}, '/m/023pjk': {'name': 'Cutlery, silverware', 'child_ids': [], 'restrictions': [], 'parent_ids': ['/t/dd00071'], 'hierarchy': [3], 'ancestor_id': ['/t/dd00041']}, '/m/01qbl': {'name': 'Cymbal', 'child_ids': ['/m/03qtq', '/m/0bm0k'], 'restrictions': [], 'parent_ids': ['/m/0l14md'], 'hierarchy': [4], 'ancestor_id': ['/m/04rlf']}, '/m/08j51y': {'name': \"Dental drill, dentist's drill\", 'child_ids': [], 'restrictions': [], 'parent_ids': ['/t/dd00065', '/m/01d380'], 'hierarchy': [4, 5], 'ancestor_id': ['/t/dd00041']}, '/m/015jpf': {'name': 'Dial tone', 'child_ids': [], 'restrictions': [], 'parent_ids': ['/m/07cx4'], 'hierarchy': [4], 'ancestor_id': ['/t/dd00041']}, '/m/02bxd': {'name': 'Didgeridoo', 'child_ids': [], 'restrictions': [], 'parent_ids': ['/m/04szw'], 'hierarchy': [3], 'ancestor_id': ['/m/04rlf']}, '/m/07r67yg': {'name': 'Ding-dong', 'child_ids': [], 'restrictions': [], 'parent_ids': ['/m/03wwcy'], 'hierarchy': [4, 5], 'ancestor_id': ['/t/dd00041']}, '/m/04brg2': {'name': 'Dishes, pots, and pans', 'child_ids': [], 'restrictions': [], 'parent_ids': ['/t/dd00071'], 'hierarchy': [3], 'ancestor_id': ['/t/dd00041']}, '/m/0bt9lr': {'name': 'Dog', 'child_ids': ['/m/05tny_', '/m/07r_k2n', '/m/07qf0zm', '/m/07rc7d9', '/m/0ghcn6', '/t/dd00136', '/m/07srf8z'], 'restrictions': [], 'parent_ids': ['/m/068hy'], 'hierarchy': [3], 'ancestor_id': ['/m/0jbk']}, '/m/02dgv': {'name': 'Door', 'child_ids': ['/m/03wwcy', '/m/02y_763', '/m/07rjzl8', '/m/07r4wb8', '/m/07qcpgn', '/m/07q6cd_'], 'restrictions': [], 'parent_ids': ['/t/dd00071'], 'hierarchy': [3], 'ancestor_id': ['/t/dd00041']}, '/m/03wwcy': {'name': 'Doorbell', 'child_ids': ['/m/07r67yg'], 'restrictions': [], 'parent_ids': ['/m/02dgv', '/m/07pp_mv'], 'hierarchy': [3, 4], 'ancestor_id': ['/t/dd00041']}, '/m/02fsn': {'name': 'Double bass', 'child_ids': [], 'restrictions': [], 'parent_ids': ['/m/0l14_3'], 'hierarchy': [4], 'ancestor_id': ['/m/04rlf']}, '/m/0fqfqc': {'name': 'Drawer open or close', 'child_ids': [], 'restrictions': [], 'parent_ids': ['/t/dd00071'], 'hierarchy': [3], 'ancestor_id': ['/t/dd00041']}, '/m/01d380': {'name': 'Drill', 'child_ids': ['/m/08j51y'], 'restrictions': [], 'parent_ids': ['/m/0_ksk'], 'hierarchy': [4], 'ancestor_id': ['/t/dd00041']}, '/m/07r5v4s': {'name': 'Drip', 'child_ids': [], 'restrictions': [], 'parent_ids': ['/m/04k94'], 'hierarchy': [3], 'ancestor_id': ['/t/dd00041']}, '/m/026t6': {'name': 'Drum', 'child_ids': ['/m/06rvn', '/m/0bm02', '/m/011k_j', '/m/01p970'], 'restrictions': [], 'parent_ids': ['/m/0l14md'], 'hierarchy': [4], 'ancestor_id': ['/m/04rlf']}, '/m/02hnl': {'name': 'Drum kit', 'child_ids': ['/m/0cfdd'], 'restrictions': [], 'parent_ids': ['/m/0l14md'], 'hierarchy': [4], 'ancestor_id': ['/m/04rlf']}, '/m/02k_mr': {'name': 'Drum roll', 'child_ids': [], 'restrictions': [], 'parent_ids': ['/m/06rvn'], 'hierarchy': [6], 'ancestor_id': ['/m/04rlf']}, '/m/09ddx': {'name': 'Duck', 'child_ids': ['/m/07qdb04'], 'restrictions': [], 'parent_ids': ['/m/025rv6n'], 'hierarchy': [4], 'ancestor_id': ['/m/0jbk']}, '/m/02sgy': {'name': 'Electric guitar', 'child_ids': [], 'restrictions': [], 'parent_ids': ['/m/0342h'], 'hierarchy': [5], 'ancestor_id': ['/m/04rlf']}, '/m/01s0ps': {'name': 'Electric piano', 'child_ids': ['/m/025cbm', '/m/0bxl5'], 'restrictions': [], 'parent_ids': ['/m/05r5c'], 'hierarchy': [5], 'ancestor_id': ['/m/04rlf']}, '/m/02g901': {'name': 'Electric shaver, electric razor', 'child_ids': [], 'restrictions': [], 'parent_ids': ['/t/dd00071'], 'hierarchy': [3], 'ancestor_id': ['/t/dd00041']}, '/m/04fgwm': {'name': 'Electric toothbrush', 'child_ids': [], 'restrictions': [], 'parent_ids': ['/m/012xff'], 'hierarchy': [4], 'ancestor_id': ['/t/dd00041']}, '/m/03xq_f': {'name': 'Electronic organ', 'child_ids': [], 'restrictions': [], 'parent_ids': ['/m/013y1f'], 'hierarchy': [5], 'ancestor_id': ['/m/04rlf']}, '/m/03j1ly': {'name': 'Emergency vehicle', 'child_ids': ['/m/04qvtq', '/m/012n7d', '/m/012ndj'], 'restrictions': [], 'parent_ids': ['/m/012f08'], 'hierarchy': [4], 'ancestor_id': ['/t/dd00041']}, '/m/02mk9': {'name': 'Engine', 'child_ids': ['/t/dd00065', '/t/dd00066', '/t/dd00067', '/m/04229', '/m/01h82_', '/t/dd00130', '/m/07pb8fc', '/m/07q2z82'], 'restrictions': [], 'parent_ids': ['/t/dd00041'], 'hierarchy': [2], 'ancestor_id': ['/t/dd00041']}, '/t/dd00130': {'name': 'Engine starting', 'child_ids': [], 'restrictions': [], 'parent_ids': ['/m/02mk9'], 'hierarchy': [3], 'ancestor_id': ['/t/dd00041']}, '/m/014zdl': {'name': 'Explosion', 'child_ids': ['/m/032s66', '/m/0g6b5', '/m/07qsvvw', '/m/07pxg6y', '/m/07qqyl4'], 'restrictions': [], 'parent_ids': ['/t/dd00041'], 'hierarchy': [2], 'ancestor_id': ['/t/dd00041']}, '/m/02_nn': {'name': 'Fart', 'child_ids': [], 'restrictions': [], 'parent_ids': ['/m/0160x5'], 'hierarchy': [3], 'ancestor_id': ['/m/0dgw9r']}, '/t/dd00004': {'name': 'Female singing', 'child_ids': [], 'restrictions': [], 'parent_ids': ['/m/015lz1'], 'hierarchy': [4], 'ancestor_id': ['/m/0dgw9r']}, '/m/02zsn': {'name': 'Female speech, woman speaking', 'child_ids': [], 'restrictions': [], 'parent_ids': ['/m/09x0r'], 'hierarchy': [4], 'ancestor_id': ['/m/0dgw9r']}, '/m/02p01q': {'name': 'Filing (rasp)', 'child_ids': [], 'restrictions': [], 'parent_ids': ['/m/07k1x'], 'hierarchy': [3], 'ancestor_id': ['/t/dd00041']}, '/m/07p7b8y': {'name': 'Fill (with liquid)', 'child_ids': [], 'restrictions': [], 'parent_ids': ['/m/04k94'], 'hierarchy': [3], 'ancestor_id': ['/t/dd00041']}, '/m/025_jnm': {'name': 'Finger snapping', 'child_ids': [], 'restrictions': [], 'parent_ids': ['/m/0k65p'], 'hierarchy': [3], 'ancestor_id': ['/m/0dgw9r']}, '/m/02_41': {'name': 'Fire', 'child_ids': ['/m/07pzfmf', '/m/0fjy1'], 'restrictions': [], 'parent_ids': ['/m/059j3w'], 'hierarchy': [2], 'ancestor_id': ['/m/059j3w']}, '/m/0c3f7m': {'name': 'Fire alarm', 'child_ids': [], 'restrictions': [], 'parent_ids': ['/m/07pp_mv'], 'hierarchy': [3], 'ancestor_id': ['/t/dd00041']}, '/m/012ndj': {'name': 'Fire engine, fire truck (siren)', 'child_ids': [], 'restrictions': [], 'parent_ids': ['/m/03j1ly', '/m/03kmc9'], 'hierarchy': [4, 5], 'ancestor_id': ['/t/dd00041']}, '/g/122z_qxw': {'name': 'Firecracker', 'child_ids': [], 'restrictions': [], 'parent_ids': ['/m/0g6b5'], 'hierarchy': [4], 'ancestor_id': ['/t/dd00041']}, '/m/0g6b5': {'name': 'Fireworks', 'child_ids': ['/g/122z_qxw'], 'restrictions': [], 'parent_ids': ['/m/014zdl'], 'hierarchy': [3], 'ancestor_id': ['/t/dd00041']}, '/m/0cmf2': {'name': 'Fixed-wing aircraft, airplane', 'child_ids': [], 'restrictions': [], 'parent_ids': ['/m/0k5j'], 'hierarchy': [4], 'ancestor_id': ['/t/dd00041']}, '/m/0l14j_': {'name': 'Flute', 'child_ids': [], 'restrictions': [], 'parent_ids': ['/m/085jw'], 'hierarchy': [4], 'ancestor_id': ['/m/04rlf']}, '/m/0h2mp': {'name': 'Fly, housefly', 'child_ids': ['/m/07pjwq1'], 'restrictions': [], 'parent_ids': ['/m/03vt0'], 'hierarchy': [4], 'ancestor_id': ['/m/0jbk']}, '/m/04fq5q': {'name': 'Foghorn', 'child_ids': [], 'restrictions': [], 'parent_ids': ['/m/07pp_mv'], 'hierarchy': [3], 'ancestor_id': ['/t/dd00041']}, '/m/0319l': {'name': 'French horn', 'child_ids': [], 'restrictions': [], 'parent_ids': ['/m/01kcd'], 'hierarchy': [4], 'ancestor_id': ['/m/04rlf']}, '/m/09ld4': {'name': 'Frog', 'child_ids': ['/m/07st88b'], 'restrictions': [], 'parent_ids': ['/m/01280g'], 'hierarchy': [3], 'ancestor_id': ['/m/0jbk']}, '/m/0dxrf': {'name': 'Frying (food)', 'child_ids': [], 'restrictions': [], 'parent_ids': ['/t/dd00071'], 'hierarchy': [3], 'ancestor_id': ['/t/dd00041']}, '/m/02z32qm': {'name': 'Fusillade', 'child_ids': [], 'restrictions': ['blacklist'], 'parent_ids': ['/m/032s66'], 'hierarchy': [4], 'ancestor_id': ['/t/dd00041']}, '/m/0939n_': {'name': 'Gargling', 'child_ids': [], 'restrictions': [], 'parent_ids': ['/m/0160x5'], 'hierarchy': [3], 'ancestor_id': ['/m/0dgw9r']}, '/m/07s0dtb': {'name': 'Gasp', 'child_ids': [], 'restrictions': [], 'parent_ids': ['/m/0lyf6'], 'hierarchy': [4], 'ancestor_id': ['/m/0dgw9r']}, '/m/0l7xg': {'name': 'Gears', 'child_ids': [], 'restrictions': [], 'parent_ids': ['/t/dd00077'], 'hierarchy': [3], 'ancestor_id': ['/t/dd00041']}, '/m/07r660_': {'name': 'Giggle', 'child_ids': [], 'restrictions': [], 'parent_ids': ['/m/01j3sz'], 'hierarchy': [4], 'ancestor_id': ['/m/0dgw9r']}, '/m/039jq': {'name': 'Glass', 'child_ids': ['/m/07q7njn', '/m/07rn7sz'], 'restrictions': [], 'parent_ids': ['/t/dd00041'], 'hierarchy': [2], 'ancestor_id': ['/t/dd00041']}, '/m/0dwtp': {'name': 'Glockenspiel', 'child_ids': [], 'restrictions': [], 'parent_ids': ['/m/0j45pbj'], 'hierarchy': [5], 'ancestor_id': ['/m/04rlf']}, '/m/03fwl': {'name': 'Goat', 'child_ids': ['/m/07q0h5t'], 'restrictions': [], 'parent_ids': ['/m/0ch8v'], 'hierarchy': [3], 'ancestor_id': ['/m/0jbk']}, '/m/0mbct': {'name': 'Gong', 'child_ids': [], 'restrictions': [], 'parent_ids': ['/m/0l14md'], 'hierarchy': [4], 'ancestor_id': ['/m/04rlf']}, '/m/0dbvp': {'name': 'Goose', 'child_ids': ['/m/07qwf61'], 'restrictions': [], 'parent_ids': ['/m/025rv6n'], 'hierarchy': [4], 'ancestor_id': ['/m/0jbk']}, '/m/0ghcn6': {'name': 'Growling', 'child_ids': [], 'restrictions': [], 'parent_ids': ['/m/0bt9lr', '/m/01yrx', '/m/0cdnk', '/m/01z5f'], 'hierarchy': [4], 'ancestor_id': ['/m/0jbk']}, '/m/07r4k75': {'name': 'Grunt', 'child_ids': [], 'restrictions': [], 'parent_ids': ['/m/09l8g'], 'hierarchy': [3], 'ancestor_id': ['/m/0dgw9r']}, '/m/0342h': {'name': 'Guitar', 'child_ids': ['/m/02sgy', '/m/018vs', '/m/042v_gx', '/m/06w87', '/m/01glhc', '/m/07s0s5r'], 'restrictions': [], 'parent_ids': ['/m/0fx80y'], 'hierarchy': [4], 'ancestor_id': ['/m/04rlf']}, '/m/01dwxx': {'name': 'Gull, seagull', 'child_ids': [], 'restrictions': [], 'parent_ids': ['/m/015p6'], 'hierarchy': [4], 'ancestor_id': ['/m/0jbk']}, '/m/032s66': {'name': 'Gunshot, gunfire', 'child_ids': ['/m/04zjc', '/m/02z32qm', '/m/0_1c', '/m/073cg4'], 'restrictions': [], 'parent_ids': ['/m/014zdl'], 'hierarchy': [3], 'ancestor_id': ['/t/dd00041']}, '/m/07swgks': {'name': 'Gurgling', 'child_ids': [], 'restrictions': [], 'parent_ids': ['/m/0838f'], 'hierarchy': [3], 'ancestor_id': ['/m/059j3w']}, '/m/03wvsk': {'name': 'Hair dryer', 'child_ids': [], 'restrictions': [], 'parent_ids': ['/t/dd00071'], 'hierarchy': [3], 'ancestor_id': ['/t/dd00041']}, '/m/03l9g': {'name': 'Hammer', 'child_ids': [], 'restrictions': [], 'parent_ids': ['/m/07k1x'], 'hierarchy': [3], 'ancestor_id': ['/t/dd00041']}, '/m/03gvt': {'name': 'Hammond organ', 'child_ids': [], 'restrictions': [], 'parent_ids': ['/m/013y1f'], 'hierarchy': [5], 'ancestor_id': ['/m/04rlf']}, '/m/0k65p': {'name': 'Hands', 'child_ids': ['/m/025_jnm', '/m/0l15bq'], 'restrictions': [], 'parent_ids': ['/m/0dgw9r'], 'hierarchy': [2], 'ancestor_id': ['/m/0dgw9r']}, '/m/03qjg': {'name': 'Harmonica', 'child_ids': [], 'restrictions': [], 'parent_ids': ['/m/04szw'], 'hierarchy': [3], 'ancestor_id': ['/m/04rlf']}, '/m/03m5k': {'name': 'Harp', 'child_ids': [], 'restrictions': [], 'parent_ids': ['/m/04szw'], 'hierarchy': [3], 'ancestor_id': ['/m/04rlf']}, '/m/03q5t': {'name': 'Harpsichord', 'child_ids': [], 'restrictions': [], 'parent_ids': ['/m/05148p4'], 'hierarchy': [4], 'ancestor_id': ['/m/04rlf']}, '/m/01jg02': {'name': 'Heart sounds, heartbeat', 'child_ids': ['/m/01jg1z'], 'restrictions': [], 'parent_ids': ['/m/0dgw9r'], 'hierarchy': [2], 'ancestor_id': ['/m/0dgw9r']}, '/m/09ct_': {'name': 'Helicopter', 'child_ids': [], 'restrictions': [], 'parent_ids': ['/m/0k5j'], 'hierarchy': [4], 'ancestor_id': ['/t/dd00041']}, '/m/03qtq': {'name': 'Hi-hat', 'child_ids': [], 'restrictions': [], 'parent_ids': ['/m/01qbl'], 'hierarchy': [5], 'ancestor_id': ['/m/04rlf']}, '/m/07rjwbb': {'name': 'Hiss', 'child_ids': [], 'restrictions': [], 'parent_ids': ['/m/01yrx', '/m/078jl', '/m/06wzb', '/m/05n1m'], 'hierarchy': [3, 4], 'ancestor_id': ['/m/0jbk', '/m/059j3w', '/t/dd00098']}, '/m/07qwf61': {'name': 'Honk', 'child_ids': [], 'restrictions': [], 'parent_ids': ['/m/0dbvp'], 'hierarchy': [5], 'ancestor_id': ['/m/0jbk']}, '/m/07r_80w': {'name': 'Hoot', 'child_ids': [], 'restrictions': [], 'parent_ids': ['/m/09d5_'], 'hierarchy': [5], 'ancestor_id': ['/m/0jbk']}, '/m/03k3r': {'name': 'Horse', 'child_ids': ['/m/07rv9rh', '/m/07q5rw0', '/t/dd00139', '/t/dd00140'], 'restrictions': [], 'parent_ids': ['/m/0ch8v'], 'hierarchy': [3], 'ancestor_id': ['/m/0jbk']}, '/m/07qf0zm': {'name': 'Howl', 'child_ids': [], 'restrictions': [], 'parent_ids': ['/m/0bt9lr', '/m/01z5f'], 'hierarchy': [4], 'ancestor_id': ['/m/0jbk']}, '/m/07q8f3b': {'name': 'Howl (wind)', 'child_ids': [], 'restrictions': [], 'parent_ids': ['/m/03m9d0z'], 'hierarchy': [3], 'ancestor_id': ['/m/059j3w']}, '/m/07qfr4h': {'name': 'Hubbub, speech noise, speech babble', 'child_ids': [], 'restrictions': [], 'parent_ids': ['/t/dd00012', '/m/096m7z'], 'hierarchy': [3], 'ancestor_id': ['/m/0dgw9r', '/t/dd00123']}, '/m/09l8g': {'name': 'Human voice', 'child_ids': ['/m/09x0r', '/m/07p6fty', '/m/03qc9zr', '/m/02rtxlg', '/m/01j3sz', '/m/0463cq4', '/m/07qw_06', '/m/07plz5l', '/m/015lz1', '/m/02fxyj', '/m/07s2xch', '/m/07r4k75', '/m/01j423'], 'restrictions': ['abstract'], 'parent_ids': ['/m/0dgw9r'], 'hierarchy': [2], 'ancestor_id': ['/m/0dgw9r']}, '/m/07pb8fc': {'name': 'Idling', 'child_ids': [], 'restrictions': [], 'parent_ids': ['/m/02mk9'], 'hierarchy': [3], 'ancestor_id': ['/t/dd00041']}, '/m/03vt0': {'name': 'Insect', 'child_ids': ['/m/09xqv', '/m/09f96', '/m/0h2mp', '/m/01h3n'], 'restrictions': [], 'parent_ids': ['/m/01280g'], 'hierarchy': [3], 'ancestor_id': ['/m/0jbk']}, '/m/03p19w': {'name': 'Jackhammer', 'child_ids': [], 'restrictions': [], 'parent_ids': ['/m/07k1x'], 'hierarchy': [3], 'ancestor_id': ['/t/dd00041']}, '/m/027m70_': {'name': 'Jingle bell', 'child_ids': [], 'restrictions': [], 'parent_ids': ['/m/0395lw'], 'hierarchy': [3, 4], 'ancestor_id': ['/m/04rlf', '/t/dd00041']}, '/m/05148p4': {'name': 'Keyboard (musical)', 'child_ids': ['/m/05r5c', '/m/013y1f', '/m/0l14qv', '/m/03q5t'], 'restrictions': [], 'parent_ids': ['/m/04szw'], 'hierarchy': [3], 'ancestor_id': ['/m/04rlf']}, '/m/03v3yw': {'name': 'Keys jangling', 'child_ids': [], 'restrictions': [], 'parent_ids': ['/t/dd00071'], 'hierarchy': [3], 'ancestor_id': ['/t/dd00041']}, '/m/07r4wb8': {'name': 'Knock', 'child_ids': [], 'restrictions': [], 'parent_ids': ['/m/02dgv', '/t/dd00099'], 'hierarchy': [3, 4], 'ancestor_id': ['/t/dd00041', '/t/dd00098']}, '/m/01j3sz': {'name': 'Laughter', 'child_ids': ['/t/dd00001', '/m/07r660_', '/m/07s04w4', '/m/07sq110', '/m/07rgt08'], 'restrictions': [], 'parent_ids': ['/m/09l8g'], 'hierarchy': [3], 'ancestor_id': ['/m/0dgw9r']}, '/m/01yg9g': {'name': 'Lawn mower', 'child_ids': [], 'restrictions': [], 'parent_ids': ['/t/dd00065'], 'hierarchy': [4], 'ancestor_id': ['/t/dd00041']}, '/t/dd00065': {'name': 'Light engine (high frequency)', 'child_ids': ['/m/08j51y', '/m/01yg9g', '/m/01j4z9'], 'restrictions': [], 'parent_ids': ['/m/02mk9'], 'hierarchy': [3], 'ancestor_id': ['/t/dd00041']}, '/m/04k94': {'name': 'Liquid', 'child_ids': ['/m/07rrlb6', '/m/07qlwh6', '/m/07r5v4s', '/m/07prgkl', '/m/07p7b8y', '/m/07qlf79', '/m/07ptzwd', '/m/07ptfmf', '/m/0dv3j'], 'restrictions': [], 'parent_ids': ['/t/dd00041'], 'hierarchy': [2], 'ancestor_id': ['/t/dd00041']}, '/m/04zjc': {'name': 'Machine gun', 'child_ids': [], 'restrictions': [], 'parent_ids': ['/m/032s66'], 'hierarchy': [4], 'ancestor_id': ['/t/dd00041']}, '/t/dd00003': {'name': 'Male singing', 'child_ids': [], 'restrictions': [], 'parent_ids': ['/m/015lz1'], 'hierarchy': [4], 'ancestor_id': ['/m/0dgw9r']}, '/m/05zppz': {'name': 'Male speech, man speaking', 'child_ids': [], 'restrictions': [], 'parent_ids': ['/m/09x0r'], 'hierarchy': [4], 'ancestor_id': ['/m/0dgw9r']}, '/m/0j45pbj': {'name': 'Mallet percussion', 'child_ids': ['/m/0dwsp', '/m/0dwtp', '/m/0dwt5', '/m/0l156b'], 'restrictions': [], 'parent_ids': ['/m/0l14md'], 'hierarchy': [4], 'ancestor_id': ['/m/04rlf']}, '/m/01c194': {'name': 'Mantra', 'child_ids': [], 'restrictions': [], 'parent_ids': ['/m/02bk07'], 'hierarchy': [5], 'ancestor_id': ['/m/0dgw9r', '/m/04rlf']}, '/m/0xzly': {'name': 'Maraca', 'child_ids': [], 'restrictions': [], 'parent_ids': ['/m/05r5wn'], 'hierarchy': [5], 'ancestor_id': ['/m/04rlf']}, '/m/0dwsp': {'name': 'Marimba, xylophone', 'child_ids': [], 'restrictions': [], 'parent_ids': ['/m/0j45pbj'], 'hierarchy': [5], 'ancestor_id': ['/m/04rlf']}, '/m/02x984l': {'name': 'Mechanical fan', 'child_ids': [], 'restrictions': [], 'parent_ids': ['/t/dd00077'], 'hierarchy': [3], 'ancestor_id': ['/t/dd00041']}, '/t/dd00077': {'name': 'Mechanisms', 'child_ids': ['/m/02bm9n', '/m/01x3z', '/m/0l7xg', '/m/05zc1', '/m/0llzx', '/m/02x984l', '/m/025wky1', '/m/024dl', '/m/01m4t', '/m/0dv5r'], 'restrictions': [], 'parent_ids': ['/t/dd00041'], 'hierarchy': [2], 'ancestor_id': ['/t/dd00041']}, '/t/dd00066': {'name': 'Medium engine (mid frequency)', 'child_ids': [], 'restrictions': [], 'parent_ids': ['/m/02mk9'], 'hierarchy': [3], 'ancestor_id': ['/t/dd00041']}, '/m/07qrkrw': {'name': 'Meow', 'child_ids': [], 'restrictions': [], 'parent_ids': ['/m/01yrx'], 'hierarchy': [4], 'ancestor_id': ['/m/0jbk']}, '/m/0fx9l': {'name': 'Microwave oven', 'child_ids': [], 'restrictions': [], 'parent_ids': ['/t/dd00071'], 'hierarchy': [3], 'ancestor_id': ['/t/dd00041']}, '/m/07rpkh9': {'name': 'Moo', 'child_ids': [], 'restrictions': [], 'parent_ids': ['/m/01xq0k1'], 'hierarchy': [4], 'ancestor_id': ['/m/0jbk']}, '/m/09f96': {'name': 'Mosquito', 'child_ids': [], 'restrictions': [], 'parent_ids': ['/m/03vt0'], 'hierarchy': [4], 'ancestor_id': ['/m/0jbk']}, '/m/012f08': {'name': 'Motor vehicle (road)', 'child_ids': ['/m/0k4j', '/m/07r04', '/m/01bjv', '/m/03j1ly', '/m/04_sv', '/m/0btp2'], 'restrictions': [], 'parent_ids': ['/m/07yv9'], 'hierarchy': [3], 'ancestor_id': ['/t/dd00041']}, '/m/04_sv': {'name': 'Motorcycle', 'child_ids': [], 'restrictions': [], 'parent_ids': ['/m/012f08'], 'hierarchy': [4], 'ancestor_id': ['/t/dd00041']}, '/m/04rmv': {'name': 'Mouse', 'child_ids': [], 'restrictions': [], 'parent_ids': ['/m/06hps'], 'hierarchy': [4], 'ancestor_id': ['/m/0jbk']}, '/m/04rlf': {'name': 'Music', 'child_ids': ['/m/04szw', '/m/0kpv1t', '/t/dd00027', '/t/dd00028', '/t/dd00030'], 'restrictions': [], 'parent_ids': [], 'hierarchy': [1], 'ancestor_id': ['/m/04rlf']}, '/m/02qldy': {'name': 'Narration, monologue', 'child_ids': [], 'restrictions': [], 'parent_ids': ['/m/09x0r'], 'hierarchy': [4], 'ancestor_id': ['/m/0dgw9r']}, '/m/07q5rw0': {'name': 'Neigh, whinny', 'child_ids': [], 'restrictions': [], 'parent_ids': ['/m/03k3r'], 'hierarchy': [4], 'ancestor_id': ['/m/0jbk']}, '/m/05kms': {'name': 'Oboe', 'child_ids': [], 'restrictions': [], 'parent_ids': ['/m/085jw'], 'hierarchy': [4], 'ancestor_id': ['/m/04rlf']}, '/m/05kq4': {'name': 'Ocean', 'child_ids': ['/m/034srq'], 'restrictions': [], 'parent_ids': ['/m/0838f'], 'hierarchy': [3], 'ancestor_id': ['/m/059j3w']}, '/t/dd00018': {'name': 'Oink', 'child_ids': [], 'restrictions': [], 'parent_ids': ['/m/068zj'], 'hierarchy': [4], 'ancestor_id': ['/m/0jbk']}, '/m/05pd6': {'name': 'Orchestra', 'child_ids': [], 'restrictions': [], 'parent_ids': ['/m/04szw'], 'hierarchy': [3], 'ancestor_id': ['/m/04rlf']}, '/m/013y1f': {'name': 'Organ', 'child_ids': ['/m/03xq_f', '/m/03gvt'], 'restrictions': [], 'parent_ids': ['/m/05148p4'], 'hierarchy': [4], 'ancestor_id': ['/m/04rlf']}, '/m/09d5_': {'name': 'Owl', 'child_ids': ['/m/07r_80w'], 'restrictions': [], 'parent_ids': ['/m/015p6'], 'hierarchy': [4], 'ancestor_id': ['/m/0jbk']}, '/m/05mxj0q': {'name': 'Packing tape, duct tape', 'child_ids': [], 'restrictions': [], 'parent_ids': ['/t/dd00071'], 'hierarchy': [3], 'ancestor_id': ['/t/dd00041']}, '/m/07pyy8b': {'name': 'Pant', 'child_ids': [], 'restrictions': [], 'parent_ids': ['/m/0lyf6'], 'hierarchy': [4], 'ancestor_id': ['/m/0dgw9r']}, '/m/0l14md': {'name': 'Percussion', 'child_ids': ['/m/02hnl', '/m/026t6', '/m/01qbl', '/m/0239kh', '/m/01sm1g', '/m/07brj', '/m/05r5wn', '/m/0mbct', '/m/016622', '/m/0j45pbj'], 'restrictions': [], 'parent_ids': ['/m/04szw'], 'hierarchy': [3], 'ancestor_id': ['/m/04rlf']}, '/m/05r5c': {'name': 'Piano', 'child_ids': ['/m/01s0ps'], 'restrictions': [], 'parent_ids': ['/m/05148p4'], 'hierarchy': [4], 'ancestor_id': ['/m/04rlf']}, '/m/068zj': {'name': 'Pig', 'child_ids': ['/t/dd00018'], 'restrictions': [], 'parent_ids': ['/m/0ch8v'], 'hierarchy': [3], 'ancestor_id': ['/m/0jbk']}, '/m/0h0rv': {'name': 'Pigeon, dove', 'child_ids': ['/m/07r_25d'], 'restrictions': [], 'parent_ids': ['/m/015p6'], 'hierarchy': [4], 'ancestor_id': ['/m/0jbk']}, '/m/0d8_n': {'name': 'Pizzicato', 'child_ids': [], 'restrictions': [], 'parent_ids': ['/m/07y_7'], 'hierarchy': [5], 'ancestor_id': ['/m/04rlf']}, '/m/0fx80y': {'name': 'Plucked string instrument', 'child_ids': ['/m/0342h', '/m/018j2', '/m/0jtg0', '/m/04rzd', '/m/01bns_', '/m/07xzm'], 'restrictions': [], 'parent_ids': ['/m/04szw'], 'hierarchy': [3], 'ancestor_id': ['/m/04rlf']}, '/m/04qvtq': {'name': 'Police car (siren)', 'child_ids': [], 'restrictions': [], 'parent_ids': ['/m/03j1ly', '/m/03kmc9'], 'hierarchy': [4, 5], 'ancestor_id': ['/t/dd00041']}, '/m/0_ksk': {'name': 'Power tool', 'child_ids': ['/m/01d380'], 'restrictions': [], 'parent_ids': ['/m/07k1x'], 'hierarchy': [3], 'ancestor_id': ['/t/dd00041']}, '/m/04gxbd': {'name': 'Power windows, electric windows', 'child_ids': [], 'restrictions': [], 'parent_ids': ['/m/0k4j'], 'hierarchy': [5], 'ancestor_id': ['/t/dd00041']}, '/m/01m4t': {'name': 'Printer', 'child_ids': [], 'restrictions': [], 'parent_ids': ['/t/dd00077'], 'hierarchy': [3], 'ancestor_id': ['/t/dd00041']}, '/m/05zc1': {'name': 'Pulleys', 'child_ids': [], 'restrictions': [], 'parent_ids': ['/t/dd00077'], 'hierarchy': [3], 'ancestor_id': ['/t/dd00041']}, '/m/02yds9': {'name': 'Purr', 'child_ids': [], 'restrictions': [], 'parent_ids': ['/m/01yrx'], 'hierarchy': [4], 'ancestor_id': ['/m/0jbk']}, '/m/07qdb04': {'name': 'Quack', 'child_ids': [], 'restrictions': [], 'parent_ids': ['/m/09ddx'], 'hierarchy': [5], 'ancestor_id': ['/m/0jbk']}, '/m/0ltv': {'name': 'Race car, auto racing', 'child_ids': [], 'restrictions': [], 'parent_ids': ['/m/0k4j'], 'hierarchy': [5], 'ancestor_id': ['/t/dd00041']}, '/m/06mb1': {'name': 'Rain', 'child_ids': ['/m/07r10fb', '/t/dd00038'], 'restrictions': [], 'parent_ids': ['/m/0838f'], 'hierarchy': [3], 'ancestor_id': ['/m/059j3w']}, '/t/dd00038': {'name': 'Rain on surface', 'child_ids': [], 'restrictions': [], 'parent_ids': ['/m/06mb1'], 'hierarchy': [4], 'ancestor_id': ['/m/059j3w']}, '/m/07r10fb': {'name': 'Raindrop', 'child_ids': [], 'restrictions': [], 'parent_ids': ['/m/06mb1'], 'hierarchy': [4], 'ancestor_id': ['/m/059j3w']}, '/m/06bxc': {'name': 'Rapping', 'child_ids': [], 'restrictions': [], 'parent_ids': ['/m/015lz1'], 'hierarchy': [4], 'ancestor_id': ['/m/0dgw9r']}, '/m/02bm9n': {'name': 'Ratchet, pawl', 'child_ids': [], 'restrictions': [], 'parent_ids': ['/t/dd00077'], 'hierarchy': [3], 'ancestor_id': ['/t/dd00041']}, '/m/07qn4z3': {'name': 'Rattle', 'child_ids': [], 'restrictions': [], 'parent_ids': ['/m/078jl', '/m/05n1m'], 'hierarchy': [3, 4], 'ancestor_id': ['/m/0jbk', '/t/dd00098']}, '/m/05r5wn': {'name': 'Rattle (instrument)', 'child_ids': ['/m/0xzly'], 'restrictions': [], 'parent_ids': ['/m/0l14md'], 'hierarchy': [4], 'ancestor_id': ['/m/04rlf']}, '/m/0bxl5': {'name': 'Rhodes piano', 'child_ids': [], 'restrictions': ['blacklist'], 'parent_ids': ['/m/01s0ps'], 'hierarchy': [6], 'ancestor_id': ['/m/04rlf']}, '/m/03t3fj': {'name': 'Rimshot', 'child_ids': [], 'restrictions': [], 'parent_ids': ['/m/06rvn'], 'hierarchy': [6], 'ancestor_id': ['/m/04rlf']}, '/m/01hnzm': {'name': 'Ringtone', 'child_ids': [], 'restrictions': [], 'parent_ids': ['/m/07cx4'], 'hierarchy': [4], 'ancestor_id': ['/t/dd00041']}, '/m/04cvmfc': {'name': 'Roar', 'child_ids': [], 'restrictions': [], 'parent_ids': ['/m/0cdnk'], 'hierarchy': [4], 'ancestor_id': ['/m/0jbk']}, '/m/06hps': {'name': 'Rodents, rats, mice', 'child_ids': ['/m/04rmv', '/m/02021', '/m/07r4gkf'], 'restrictions': [], 'parent_ids': ['/m/01280g'], 'hierarchy': [3], 'ancestor_id': ['/m/0jbk']}, '/m/06h7j': {'name': 'Run', 'child_ids': [], 'restrictions': [], 'parent_ids': ['/m/0bpl036'], 'hierarchy': [3], 'ancestor_id': ['/m/0dgw9r']}, '/m/09t49': {'name': 'Rustling leaves', 'child_ids': [], 'restrictions': [], 'parent_ids': ['/m/03m9d0z'], 'hierarchy': [3], 'ancestor_id': ['/m/059j3w']}, '/m/0hsrw': {'name': 'Sailboat, sailing ship', 'child_ids': [], 'restrictions': [], 'parent_ids': ['/m/019jd'], 'hierarchy': [4], 'ancestor_id': ['/t/dd00041']}, '/m/023vsd': {'name': 'Sanding', 'child_ids': [], 'restrictions': [], 'parent_ids': ['/m/07k1x'], 'hierarchy': [3], 'ancestor_id': ['/t/dd00041']}, '/m/01b82r': {'name': 'Sawing', 'child_ids': [], 'restrictions': [], 'parent_ids': ['/m/07k1x'], 'hierarchy': [3], 'ancestor_id': ['/t/dd00041']}, '/m/06ncr': {'name': 'Saxophone', 'child_ids': ['/m/02pprs', '/m/03t22m'], 'restrictions': [], 'parent_ids': ['/m/085jw'], 'hierarchy': [4], 'ancestor_id': ['/m/04rlf']}, '/m/01lsmm': {'name': 'Scissors', 'child_ids': [], 'restrictions': [], 'parent_ids': ['/t/dd00071'], 'hierarchy': [3], 'ancestor_id': ['/t/dd00041']}, '/m/01hgjl': {'name': 'Scratching (performance technique)', 'child_ids': [], 'restrictions': [], 'parent_ids': ['/m/04szw'], 'hierarchy': [3], 'ancestor_id': ['/m/04rlf']}, '/m/03qc9zr': {'name': 'Screaming', 'child_ids': [], 'restrictions': [], 'parent_ids': ['/m/09l8g'], 'hierarchy': [3], 'ancestor_id': ['/m/0dgw9r']}, '/m/07q8k13': {'name': 'Screech', 'child_ids': [], 'restrictions': [], 'parent_ids': ['/t/dd000138'], 'hierarchy': [4], 'ancestor_id': ['/t/dd00098']}, '/m/0llzx': {'name': 'Sewing machine', 'child_ids': [], 'restrictions': [], 'parent_ids': ['/t/dd00077'], 'hierarchy': [3], 'ancestor_id': ['/t/dd00041']}, '/m/07rn7sz': {'name': 'Shatter', 'child_ids': [], 'restrictions': [], 'parent_ids': ['/m/039jq'], 'hierarchy': [3], 'ancestor_id': ['/t/dd00041']}, '/m/07bgp': {'name': 'Sheep', 'child_ids': ['/m/07q0h5t'], 'restrictions': [], 'parent_ids': ['/m/0ch8v'], 'hierarchy': [3], 'ancestor_id': ['/m/0jbk']}, '/m/06q74': {'name': 'Ship', 'child_ids': [], 'restrictions': [], 'parent_ids': ['/m/019jd'], 'hierarchy': [4], 'ancestor_id': ['/t/dd00041']}, '/m/07p6fty': {'name': 'Shout', 'child_ids': ['/m/07q4ntr', '/m/07rwj3x', '/m/07sr1lc', '/m/04gy_2', '/t/dd00135'], 'restrictions': [], 'parent_ids': ['/m/09l8g'], 'hierarchy': [3], 'ancestor_id': ['/m/0dgw9r']}, '/m/05rj2': {'name': 'Shuffling cards', 'child_ids': [], 'restrictions': [], 'parent_ids': ['/t/dd00071'], 'hierarchy': [3], 'ancestor_id': ['/t/dd00041']}, '/m/07plz5l': {'name': 'Sigh', 'child_ids': [], 'restrictions': [], 'parent_ids': ['/m/09l8g'], 'hierarchy': [3], 'ancestor_id': ['/m/0dgw9r']}, '/m/015lz1': {'name': 'Singing', 'child_ids': ['/m/0l14jd', '/m/01swy6', '/m/02bk07', '/t/dd00003', '/t/dd00004', '/t/dd00005', '/t/dd00006', '/m/06bxc'], 'restrictions': [], 'parent_ids': ['/m/09l8g'], 'hierarchy': [3], 'ancestor_id': ['/m/0dgw9r']}, '/m/0l14t7': {'name': 'Singing bowl', 'child_ids': [], 'restrictions': [], 'parent_ids': ['/m/04szw'], 'hierarchy': [3], 'ancestor_id': ['/m/04rlf']}, '/m/0130jx': {'name': 'Sink (filling or washing)', 'child_ids': [], 'restrictions': [], 'parent_ids': ['/t/dd00071'], 'hierarchy': [3], 'ancestor_id': ['/t/dd00041']}, '/m/03kmc9': {'name': 'Siren', 'child_ids': ['/m/04qvtq', '/m/012n7d', '/m/012ndj', '/m/0dgbq'], 'restrictions': [], 'parent_ids': ['/m/07pp_mv'], 'hierarchy': [3], 'ancestor_id': ['/t/dd00041']}, '/m/0jtg0': {'name': 'Sitar', 'child_ids': [], 'restrictions': [], 'parent_ids': ['/m/0fx80y'], 'hierarchy': [4], 'ancestor_id': ['/m/04rlf']}, '/m/06_fw': {'name': 'Skateboard', 'child_ids': [], 'restrictions': [], 'parent_ids': ['/t/dd00061'], 'hierarchy': [4], 'ancestor_id': ['/t/dd00041']}, '/m/07rknqz': {'name': 'Skidding', 'child_ids': [], 'restrictions': [], 'parent_ids': ['/m/0k4j'], 'hierarchy': [5], 'ancestor_id': ['/t/dd00041']}, '/m/07rjzl8': {'name': 'Slam', 'child_ids': [], 'restrictions': [], 'parent_ids': ['/m/02dgv'], 'hierarchy': [4], 'ancestor_id': ['/t/dd00041']}, '/m/02y_763': {'name': 'Sliding door', 'child_ids': [], 'restrictions': [], 'parent_ids': ['/m/02dgv'], 'hierarchy': [4], 'ancestor_id': ['/t/dd00041']}, '/m/07p6mqd': {'name': 'Slosh', 'child_ids': [], 'restrictions': [], 'parent_ids': ['/m/07rrlb6'], 'hierarchy': [4], 'ancestor_id': ['/t/dd00041']}, '/m/07pc8l3': {'name': 'Snap', 'child_ids': [], 'restrictions': [], 'parent_ids': ['/m/083vt', '/m/05n1m'], 'hierarchy': [3], 'ancestor_id': ['/t/dd00041', '/t/dd00098']}, '/m/06rvn': {'name': 'Snare drum', 'child_ids': ['/m/03t3fj', '/m/02k_mr'], 'restrictions': [], 'parent_ids': ['/m/026t6'], 'hierarchy': [5], 'ancestor_id': ['/m/04rlf']}, '/m/01hsr_': {'name': 'Sneeze', 'child_ids': [], 'restrictions': [], 'parent_ids': ['/m/09hlz4'], 'hierarchy': [3], 'ancestor_id': ['/m/0dgw9r']}, '/m/07s04w4': {'name': 'Snicker', 'child_ids': [], 'restrictions': [], 'parent_ids': ['/m/01j3sz'], 'hierarchy': [4], 'ancestor_id': ['/m/0dgw9r']}, '/m/07ppn3j': {'name': 'Sniff', 'child_ids': [], 'restrictions': [], 'parent_ids': ['/m/09hlz4'], 'hierarchy': [3], 'ancestor_id': ['/m/0dgw9r']}, '/m/01d3sd': {'name': 'Snoring', 'child_ids': [], 'restrictions': [], 'parent_ids': ['/m/0lyf6'], 'hierarchy': [4], 'ancestor_id': ['/m/0dgw9r']}, '/t/dd00139': {'name': 'Snort (horse)', 'child_ids': [], 'restrictions': [], 'parent_ids': ['/m/03k3r'], 'hierarchy': [4], 'ancestor_id': ['/m/0jbk']}, '/m/03t22m': {'name': 'Soprano saxophone', 'child_ids': [], 'restrictions': ['blacklist'], 'parent_ids': ['/m/06ncr'], 'hierarchy': [5], 'ancestor_id': ['/m/04rlf']}, '/m/09x0r': {'name': 'Speech', 'child_ids': ['/m/05zppz', '/m/02zsn', '/m/0ytgt', '/m/01h8n0', '/m/02qldy', '/m/0261r1', '/m/0brhx'], 'restrictions': [], 'parent_ids': ['/m/09l8g'], 'hierarchy': [3], 'ancestor_id': ['/m/0dgw9r']}, '/m/0brhx': {'name': 'Speech synthesizer', 'child_ids': [], 'restrictions': [], 'parent_ids': ['/m/09x0r'], 'hierarchy': [4], 'ancestor_id': ['/m/0dgw9r']}, '/m/07rrlb6': {'name': 'Splash, splatter', 'child_ids': ['/m/07p6mqd'], 'restrictions': [], 'parent_ids': ['/m/04k94'], 'hierarchy': [3], 'ancestor_id': ['/t/dd00041']}, '/m/07pl1bw': {'name': 'Splinter', 'child_ids': [], 'restrictions': [], 'parent_ids': ['/m/083vt'], 'hierarchy': [3], 'ancestor_id': ['/t/dd00041']}, '/m/07qlf79': {'name': 'Spray', 'child_ids': [], 'restrictions': [], 'parent_ids': ['/m/04k94'], 'hierarchy': [3], 'ancestor_id': ['/t/dd00041']}, '/m/07sx8x_': {'name': 'Squawk', 'child_ids': [], 'restrictions': [], 'parent_ids': ['/m/020bb7'], 'hierarchy': [5], 'ancestor_id': ['/m/0jbk']}, '/m/07q6cd_': {'name': 'Squeak', 'child_ids': [], 'restrictions': [], 'parent_ids': ['/m/02dgv', '/t/dd000138'], 'hierarchy': [4], 'ancestor_id': ['/t/dd00041', '/t/dd00098']}, '/m/07qlwh6': {'name': 'Squish', 'child_ids': [], 'restrictions': [], 'parent_ids': ['/m/04k94', '/m/05n1m'], 'hierarchy': [3], 'ancestor_id': ['/t/dd00041', '/t/dd00098']}, '/m/06wzb': {'name': 'Steam', 'child_ids': ['/m/07rjwbb'], 'restrictions': [], 'parent_ids': ['/m/0838f'], 'hierarchy': [3], 'ancestor_id': ['/m/059j3w']}, '/m/06hck5': {'name': 'Steam whistle', 'child_ids': [], 'restrictions': [], 'parent_ids': ['/m/0l156k'], 'hierarchy': [4], 'ancestor_id': ['/t/dd00041']}, '/m/06w87': {'name': 'Steel guitar, slide guitar', 'child_ids': [], 'restrictions': [], 'parent_ids': ['/m/0342h'], 'hierarchy': [5], 'ancestor_id': ['/m/04rlf']}, '/m/07ptfmf': {'name': 'Stir', 'child_ids': [], 'restrictions': [], 'parent_ids': ['/m/04k94'], 'hierarchy': [3], 'ancestor_id': ['/t/dd00041']}, '/m/0j6m2': {'name': 'Stream', 'child_ids': [], 'restrictions': [], 'parent_ids': ['/m/0838f'], 'hierarchy': [3], 'ancestor_id': ['/m/059j3w']}, '/m/07s0s5r': {'name': 'Strum', 'child_ids': [], 'restrictions': [], 'parent_ids': ['/m/0342h'], 'hierarchy': [5], 'ancestor_id': ['/m/04rlf']}, '/m/0195fx': {'name': 'Subway, metro, underground', 'child_ids': [], 'restrictions': [], 'parent_ids': ['/m/06d_3'], 'hierarchy': [4], 'ancestor_id': ['/t/dd00041']}, '/t/dd00006': {'name': 'Synthetic singing', 'child_ids': [], 'restrictions': [], 'parent_ids': ['/m/015lz1'], 'hierarchy': [4], 'ancestor_id': ['/m/0dgw9r']}, '/m/01p970': {'name': 'Tabla', 'child_ids': [], 'restrictions': [], 'parent_ids': ['/m/026t6'], 'hierarchy': [5], 'ancestor_id': ['/m/04rlf']}, '/m/07brj': {'name': 'Tambourine', 'child_ids': [], 'restrictions': [], 'parent_ids': ['/m/0l14md'], 'hierarchy': [4], 'ancestor_id': ['/m/04rlf']}, '/m/07qcpgn': {'name': 'Tap', 'child_ids': [], 'restrictions': [], 'parent_ids': ['/m/02dgv', '/t/dd00099'], 'hierarchy': [3, 4], 'ancestor_id': ['/t/dd00041', '/t/dd00098']}, '/m/07qcx4z': {'name': 'Tearing', 'child_ids': [], 'restrictions': [], 'parent_ids': ['/t/dd00110'], 'hierarchy': [3], 'ancestor_id': ['/t/dd00098']}, '/m/07cx4': {'name': 'Telephone', 'child_ids': ['/m/07pp8cl', '/m/01hnzm', '/m/01sb50', '/m/02c8p', '/m/015jpf', '/m/01z47d'], 'restrictions': [], 'parent_ids': ['/m/07pp_mv'], 'hierarchy': [3], 'ancestor_id': ['/t/dd00041']}, '/m/07pp8cl': {'name': 'Telephone bell ringing', 'child_ids': [], 'restrictions': [], 'parent_ids': ['/m/07cx4'], 'hierarchy': [4], 'ancestor_id': ['/t/dd00041']}, '/m/02c8p': {'name': 'Telephone dialing, DTMF', 'child_ids': [], 'restrictions': [], 'parent_ids': ['/m/07cx4'], 'hierarchy': [4], 'ancestor_id': ['/t/dd00041']}, '/m/07kc_': {'name': 'Theremin', 'child_ids': [], 'restrictions': [], 'parent_ids': ['/m/04szw'], 'hierarchy': [3], 'ancestor_id': ['/m/04rlf']}, '/m/0dl9sf8': {'name': 'Throat clearing', 'child_ids': [], 'restrictions': [], 'parent_ids': ['/m/01b_21'], 'hierarchy': [4], 'ancestor_id': ['/m/0dgw9r']}, '/m/07qnq_y': {'name': 'Thump, thud', 'child_ids': ['/m/07rrh0c', '/t/dd00108'], 'restrictions': [], 'parent_ids': ['/m/0dl83', '/t/dd00099'], 'hierarchy': [3, 4], 'ancestor_id': ['/t/dd00041', '/t/dd00098']}, '/m/0ngt1': {'name': 'Thunder', 'child_ids': [], 'restrictions': [], 'parent_ids': ['/m/0jb2l'], 'hierarchy': [3], 'ancestor_id': ['/m/059j3w']}, '/m/0jb2l': {'name': 'Thunderstorm', 'child_ids': ['/m/0ngt1'], 'restrictions': [], 'parent_ids': ['/m/059j3w'], 'hierarchy': [2], 'ancestor_id': ['/m/059j3w']}, '/m/07rrh0c': {'name': 'Thunk', 'child_ids': [], 'restrictions': [], 'parent_ids': ['/m/07qnq_y'], 'hierarchy': [4, 5], 'ancestor_id': ['/t/dd00041', '/t/dd00098']}, '/m/07qjznt': {'name': 'Tick', 'child_ids': [], 'restrictions': [], 'parent_ids': ['/m/01x3z', '/m/07qc9xj'], 'hierarchy': [4], 'ancestor_id': ['/t/dd00041', '/t/dd00098']}, '/m/07qjznl': {'name': 'Tick-tock', 'child_ids': [], 'restrictions': [], 'parent_ids': ['/m/01x3z'], 'hierarchy': [4], 'ancestor_id': ['/t/dd00041']}, '/m/011k_j': {'name': 'Timpani', 'child_ids': [], 'restrictions': [], 'parent_ids': ['/m/026t6'], 'hierarchy': [5], 'ancestor_id': ['/m/04rlf']}, '/m/01jt3m': {'name': 'Toilet flush', 'child_ids': [], 'restrictions': [], 'parent_ids': ['/t/dd00071'], 'hierarchy': [3], 'ancestor_id': ['/t/dd00041']}, '/m/07k1x': {'name': 'Tools', 'child_ids': ['/m/03l9g', '/m/03p19w', '/m/01b82r', '/m/02p01q', '/m/023vsd', '/m/0_ksk'], 'restrictions': [], 'parent_ids': ['/t/dd00041'], 'hierarchy': [2], 'ancestor_id': ['/t/dd00041']}, '/m/07qv_d5': {'name': 'Toot', 'child_ids': [], 'restrictions': [], 'parent_ids': ['/m/0912c9'], 'hierarchy': [4, 6], 'ancestor_id': ['/t/dd00041']}, '/m/012xff': {'name': 'Toothbrush', 'child_ids': ['/m/04fgwm'], 'restrictions': [], 'parent_ids': ['/t/dd00071'], 'hierarchy': [3], 'ancestor_id': ['/t/dd00041']}, '/m/0btp2': {'name': 'Traffic noise, roadway noise', 'child_ids': [], 'restrictions': [], 'parent_ids': ['/m/012f08'], 'hierarchy': [4], 'ancestor_id': ['/t/dd00041']}, '/m/07jdr': {'name': 'Train', 'child_ids': ['/m/04zmvq', '/m/0284vy3'], 'restrictions': [], 'parent_ids': ['/m/06d_3'], 'hierarchy': [4], 'ancestor_id': ['/t/dd00041']}, '/m/0284vy3': {'name': 'Train horn', 'child_ids': [], 'restrictions': [], 'parent_ids': ['/m/07jdr'], 'hierarchy': [5], 'ancestor_id': ['/t/dd00041']}, '/m/04zmvq': {'name': 'Train whistle', 'child_ids': [], 'restrictions': [], 'parent_ids': ['/m/07jdr'], 'hierarchy': [5], 'ancestor_id': ['/t/dd00041']}, '/m/07pqc89': {'name': 'Trickle, dribble', 'child_ids': [], 'restrictions': [], 'parent_ids': ['/m/07prgkl'], 'hierarchy': [4], 'ancestor_id': ['/t/dd00041']}, '/m/07c6l': {'name': 'Trombone', 'child_ids': [], 'restrictions': [], 'parent_ids': ['/m/01kcd'], 'hierarchy': [4], 'ancestor_id': ['/m/04rlf']}, '/m/07r04': {'name': 'Truck', 'child_ids': ['/m/0gvgw0', '/m/05x_td', '/m/02rhddq', '/m/03cl9h'], 'restrictions': [], 'parent_ids': ['/m/012f08'], 'hierarchy': [4], 'ancestor_id': ['/t/dd00041']}, '/m/07gql': {'name': 'Trumpet', 'child_ids': [], 'restrictions': [], 'parent_ids': ['/m/01kcd'], 'hierarchy': [4], 'ancestor_id': ['/m/04rlf']}, '/m/016622': {'name': 'Tubular bells', 'child_ids': [], 'restrictions': [], 'parent_ids': ['/m/0l14md'], 'hierarchy': [4], 'ancestor_id': ['/m/04rlf']}, '/m/01rd7k': {'name': 'Turkey', 'child_ids': ['/m/07svc2k'], 'restrictions': [], 'parent_ids': ['/m/025rv6n'], 'hierarchy': [4], 'ancestor_id': ['/m/0jbk']}, '/m/0c2wf': {'name': 'Typewriter', 'child_ids': [], 'restrictions': [], 'parent_ids': ['/m/0316dw'], 'hierarchy': [4], 'ancestor_id': ['/t/dd00041']}, '/m/0316dw': {'name': 'Typing', 'child_ids': ['/m/0c2wf', '/m/01m2v'], 'restrictions': [], 'parent_ids': ['/t/dd00071'], 'hierarchy': [3], 'ancestor_id': ['/t/dd00041']}, '/m/07xzm': {'name': 'Ukulele', 'child_ids': [], 'restrictions': [], 'parent_ids': ['/m/0fx80y'], 'hierarchy': [4], 'ancestor_id': ['/m/04rlf']}, '/m/0d31p': {'name': 'Vacuum cleaner', 'child_ids': [], 'restrictions': [], 'parent_ids': ['/t/dd00071'], 'hierarchy': [3], 'ancestor_id': ['/t/dd00041']}, '/m/07yv9': {'name': 'Vehicle', 'child_ids': ['/m/019jd', '/m/012f08', '/m/06d_3', '/m/0k5j', '/t/dd00061'], 'restrictions': [], 'parent_ids': ['/t/dd00041'], 'hierarchy': [2], 'ancestor_id': ['/t/dd00041']}, '/m/0912c9': {'name': 'Vehicle horn, car horn, honking', 'child_ids': ['/m/07qv_d5'], 'restrictions': [], 'parent_ids': ['/m/0k4j', '/m/07pp_mv'], 'hierarchy': [3, 5], 'ancestor_id': ['/t/dd00041']}, '/m/0zmy2j9': {'name': 'Velcro, hook and loop fastener', 'child_ids': [], 'restrictions': [], 'parent_ids': ['/t/dd00071'], 'hierarchy': [3], 'ancestor_id': ['/t/dd00041']}, '/m/0dwt5': {'name': 'Vibraphone', 'child_ids': [], 'restrictions': [], 'parent_ids': ['/m/0j45pbj'], 'hierarchy': [5], 'ancestor_id': ['/m/04rlf']}, '/m/07y_7': {'name': 'Violin, fiddle', 'child_ids': ['/m/0d8_n'], 'restrictions': [], 'parent_ids': ['/m/0l14_3'], 'hierarchy': [4], 'ancestor_id': ['/m/04rlf']}, '/m/07qw_06': {'name': 'Wail, moan', 'child_ids': [], 'restrictions': [], 'parent_ids': ['/m/09l8g'], 'hierarchy': [3], 'ancestor_id': ['/m/0dgw9r']}, '/m/07pbtc8': {'name': 'Walk, footsteps', 'child_ids': [], 'restrictions': [], 'parent_ids': ['/m/0bpl036'], 'hierarchy': [3], 'ancestor_id': ['/m/0dgw9r']}, '/m/0838f': {'name': 'Water', 'child_ids': ['/m/06mb1', '/m/0j6m2', '/m/0j2kx', '/m/05kq4', '/m/06wzb', '/m/07swgks'], 'restrictions': [], 'parent_ids': ['/m/059j3w'], 'hierarchy': [2], 'ancestor_id': ['/m/059j3w']}, '/m/02jz0l': {'name': 'Water tap, faucet', 'child_ids': [], 'restrictions': [], 'parent_ids': ['/t/dd00071'], 'hierarchy': [3], 'ancestor_id': ['/t/dd00041']}, '/m/0j2kx': {'name': 'Waterfall', 'child_ids': [], 'restrictions': [], 'parent_ids': ['/m/0838f'], 'hierarchy': [3], 'ancestor_id': ['/m/059j3w']}, '/m/034srq': {'name': 'Waves, surf', 'child_ids': [], 'restrictions': [], 'parent_ids': ['/m/05kq4'], 'hierarchy': [4], 'ancestor_id': ['/m/059j3w']}, '/m/02rtxlg': {'name': 'Whispering', 'child_ids': [], 'restrictions': [], 'parent_ids': ['/m/09l8g'], 'hierarchy': [3], 'ancestor_id': ['/m/0dgw9r']}, '/m/07rwj3x': {'name': 'Whoop', 'child_ids': [], 'restrictions': [], 'parent_ids': ['/m/07p6fty'], 'hierarchy': [4], 'ancestor_id': ['/m/0dgw9r']}, '/m/07rqsjt': {'name': 'Whoosh, swoosh, swish', 'child_ids': [], 'restrictions': [], 'parent_ids': ['/m/0dl83', '/m/05n1m'], 'hierarchy': [3, 4], 'ancestor_id': ['/t/dd00041', '/t/dd00098']}, '/m/03m9d0z': {'name': 'Wind', 'child_ids': ['/m/07q8f3b', '/m/09t49', '/t/dd00092'], 'restrictions': [], 'parent_ids': ['/m/059j3w'], 'hierarchy': [2], 'ancestor_id': ['/m/059j3w']}, '/m/026fgl': {'name': 'Wind chime', 'child_ids': [], 'restrictions': [], 'parent_ids': ['/m/0f8s22'], 'hierarchy': [4, 5], 'ancestor_id': ['/m/04rlf', '/t/dd00041']}, '/m/085jw': {'name': 'Wind instrument, woodwind instrument', 'child_ids': ['/m/0l14j_', '/m/06ncr', '/m/01wy6', '/m/05kms', '/m/01c3q'], 'restrictions': [], 'parent_ids': ['/m/04szw'], 'hierarchy': [3], 'ancestor_id': ['/m/04rlf']}, '/t/dd00092': {'name': 'Wind noise (microphone)', 'child_ids': [], 'restrictions': [], 'parent_ids': ['/m/03m9d0z', '/m/0hg7b'], 'hierarchy': [3, 5], 'ancestor_id': ['/m/059j3w', '/t/dd00041']}, '/m/083vt': {'name': 'Wood', 'child_ids': ['/m/07pczhz', '/m/07pl1bw', '/m/07qs1cx', '/m/07pc8l3'], 'restrictions': [], 'parent_ids': ['/t/dd00041'], 'hierarchy': [2], 'ancestor_id': ['/t/dd00041']}, '/m/081rb': {'name': 'Writing', 'child_ids': [], 'restrictions': [], 'parent_ids': ['/t/dd00071'], 'hierarchy': [3], 'ancestor_id': ['/t/dd00041']}, '/m/01j423': {'name': 'Yawn', 'child_ids': [], 'restrictions': [], 'parent_ids': ['/m/09l8g'], 'hierarchy': [3], 'ancestor_id': ['/m/0dgw9r']}, '/m/07sr1lc': {'name': 'Yell', 'child_ids': [], 'restrictions': [], 'parent_ids': ['/m/07p6fty'], 'hierarchy': [4], 'ancestor_id': ['/m/0dgw9r']}, '/m/07r_k2n': {'name': 'Yip', 'child_ids': [], 'restrictions': [], 'parent_ids': ['/m/0bt9lr'], 'hierarchy': [4], 'ancestor_id': ['/m/0jbk']}, '/m/01swy6': {'name': 'Yodeling', 'child_ids': [], 'restrictions': [], 'parent_ids': ['/m/015lz1'], 'hierarchy': [4], 'ancestor_id': ['/m/0dgw9r']}, '/m/01s0vc': {'name': 'Zipper (clothing)', 'child_ids': [], 'restrictions': [], 'parent_ids': ['/t/dd00071'], 'hierarchy': [3], 'ancestor_id': ['/t/dd00041']}, '/m/07sq110': {'name': 'Belly laugh', 'child_ids': [], 'restrictions': [], 'parent_ids': ['/m/01j3sz'], 'hierarchy': [4], 'ancestor_id': ['/m/0dgw9r']}, '/m/07pdhp0': {'name': 'Biting', 'child_ids': [], 'restrictions': [], 'parent_ids': ['/m/0160x5'], 'hierarchy': [3], 'ancestor_id': ['/m/0dgw9r']}, '/m/04v5dt': {'name': 'Booing', 'child_ids': [], 'restrictions': [], 'parent_ids': ['/t/dd00012'], 'hierarchy': [3], 'ancestor_id': ['/m/0dgw9r']}, '/m/0f25s6': {'name': 'Cat communication', 'child_ids': [], 'restrictions': ['blacklist'], 'parent_ids': ['/m/01yrx'], 'hierarchy': [4], 'ancestor_id': ['/m/0jbk']}, '/m/07r81j2': {'name': 'Caterwaul', 'child_ids': [], 'restrictions': [], 'parent_ids': ['/m/01yrx'], 'hierarchy': [4], 'ancestor_id': ['/m/0jbk']}, '/m/07qc9xj': {'name': 'Clicking', 'child_ids': ['/m/07qjznt', '/m/07rv9rh', '/m/07rwm0c'], 'restrictions': [], 'parent_ids': ['/m/05n1m'], 'hierarchy': [3], 'ancestor_id': ['/t/dd00098']}, '/m/0160x5': {'name': 'Digestive', 'child_ids': ['/m/03cczk', '/m/07pdhp0', '/m/0939n_', '/m/01g90h', '/m/03q5_w', '/m/02p3nc', '/m/02_nn'], 'restrictions': ['abstract'], 'parent_ids': ['/m/0dgw9r'], 'hierarchy': [2], 'ancestor_id': ['/m/0dgw9r']}, '/m/068hy': {'name': 'Domestic animals, pets', 'child_ids': ['/m/0bt9lr', '/m/01yrx'], 'restrictions': [], 'parent_ids': ['/m/0jbk'], 'hierarchy': [2], 'ancestor_id': ['/m/0jbk']}, '/t/dd00071': {'name': 'Domestic sounds, home sounds', 'child_ids': ['/m/02dgv', '/m/0642b4', '/m/0fqfqc', '/m/04brg2', '/m/023pjk', '/m/07pn_8q', '/m/0dxrf', '/m/0fx9l', '/m/02pjr4', '/g/11b630rrvh', '/m/02jz0l', '/m/0130jx', '/m/03dnzn', '/m/03wvsk', '/m/01jt3m', '/m/012xff', '/m/0d31p', '/m/01s0vc', '/m/0zmy2j9', '/m/03v3yw', '/m/0242l', '/m/05mxj0q', '/m/01lsmm', '/m/02g901', '/m/05rj2', '/m/0316dw', '/m/081rb'], 'restrictions': ['blacklist'], 'parent_ids': ['/t/dd00041'], 'hierarchy': [2], 'ancestor_id': ['/t/dd00041']}, '/m/0dgw9r': {'name': 'Human sounds', 'child_ids': ['/m/09l8g', '/m/01w250', '/m/09hlz4', '/m/0bpl036', '/m/0160x5', '/m/0k65p', '/m/01jg02', '/m/04xp5v', '/t/dd00012'], 'restrictions': ['abstract'], 'parent_ids': [], 'hierarchy': [1], 'ancestor_id': ['/m/0dgw9r']}, '/m/04szw': {'name': 'Musical instrument', 'child_ids': ['/m/0fx80y', '/m/05148p4', '/m/0l14md', '/m/05pd6', '/m/01kcd', '/m/0l14_3', '/m/085jw', '/m/03m5k', '/m/0l14jd', '/m/0395lw', '/m/03qjg', '/m/0mkg', '/m/0192l', '/m/02bxd', '/m/0l14l2', '/m/07kc_', '/m/0l14t7', '/m/05229', '/m/01vj9c', '/m/01hgjl'], 'restrictions': [], 'parent_ids': ['/m/04rlf'], 'hierarchy': [2], 'ancestor_id': ['/m/04rlf']}, '/m/059j3w': {'name': 'Natural sounds', 'child_ids': ['/m/03m9d0z', '/m/0jb2l', '/m/0838f', '/m/02_41'], 'restrictions': ['blacklist'], 'parent_ids': [], 'hierarchy': [1], 'ancestor_id': ['/m/059j3w']}, '/m/07prgkl': {'name': 'Pour', 'child_ids': ['/m/07pqc89', '/t/dd00088'], 'restrictions': [], 'parent_ids': ['/m/04k94'], 'hierarchy': [3], 'ancestor_id': ['/t/dd00041']}, '/m/06d_3': {'name': 'Rail transport', 'child_ids': ['/m/07jdr', '/m/01g50p', '/t/dd00048', '/m/0195fx'], 'restrictions': [], 'parent_ids': ['/m/07yv9'], 'hierarchy': [3], 'ancestor_id': ['/t/dd00041']}, '/m/09hlz4': {'name': 'Respiratory sounds', 'child_ids': ['/m/0lyf6', '/m/01b_21', '/m/01hsr_', '/m/07ppn3j'], 'restrictions': ['abstract'], 'parent_ids': ['/m/0dgw9r'], 'hierarchy': [2], 'ancestor_id': ['/m/0dgw9r']}, '/m/01g90h': {'name': 'Stomach rumble', 'child_ids': [], 'restrictions': [], 'parent_ids': ['/m/0160x5'], 'hierarchy': [3], 'ancestor_id': ['/m/0dgw9r']}, '/m/0l14qv': {'name': 'Synthesizer', 'child_ids': ['/m/01v1d8', '/m/0gkd1'], 'restrictions': [], 'parent_ids': ['/m/05148p4'], 'hierarchy': [4], 'ancestor_id': ['/m/04rlf']}, '/m/0h9mv': {'name': 'Tire squeal', 'child_ids': [], 'restrictions': [], 'parent_ids': ['/m/0k4j'], 'hierarchy': [5], 'ancestor_id': ['/t/dd00041']}, '/t/dd00136': {'name': 'Whimper (dog)', 'child_ids': [], 'restrictions': [], 'parent_ids': ['/m/0bt9lr'], 'hierarchy': [4], 'ancestor_id': ['/m/0jbk']}, '/m/0l156k': {'name': 'Whistle', 'child_ids': ['/g/11b630rrvh', '/m/06hck5'], 'restrictions': [], 'parent_ids': ['/m/07pp_mv'], 'hierarchy': [3], 'ancestor_id': ['/t/dd00041']}, '/m/01w250': {'name': 'Whistling', 'child_ids': ['/m/079vc8'], 'restrictions': [], 'parent_ids': ['/m/0dgw9r'], 'hierarchy': [2], 'ancestor_id': ['/m/0dgw9r']}, '/m/01280g': {'name': 'Wild animals', 'child_ids': ['/m/0cdnk', '/m/015p6', '/m/01z5f', '/m/06hps', '/m/03vt0', '/m/09ld4', '/m/078jl', '/m/032n05'], 'restrictions': [], 'parent_ids': ['/m/0jbk'], 'hierarchy': [2], 'ancestor_id': ['/m/0jbk']}, '/m/0fjy1': {'name': 'Wildfire', 'child_ids': [], 'restrictions': [], 'parent_ids': ['/m/02_41'], 'hierarchy': [3], 'ancestor_id': ['/m/059j3w']}, '/m/07pk7mg': {'name': 'Wobble', 'child_ids': [], 'restrictions': [], 'parent_ids': ['/m/0dl83'], 'hierarchy': [4], 'ancestor_id': ['/t/dd00041']}}\n"
     ]
    }
   ],
   "source": [
    "print(collection_voc)"
   ]
  },
  {
   "cell_type": "code",
   "execution_count": 20,
   "id": "103e35ed-e341-4d59-915e-f616b2f72167",
   "metadata": {
    "pycharm": {
     "name": "#%%\n"
    }
   },
   "outputs": [],
   "source": []
  }
 ],
 "metadata": {
  "kernelspec": {
   "display_name": "Python 3 (ipykernel)",
   "language": "python",
   "name": "python3"
  },
  "language_info": {
   "codemirror_mode": {
    "name": "ipython",
    "version": 3
   },
   "file_extension": ".py",
   "mimetype": "text/x-python",
   "name": "python",
   "nbconvert_exporter": "python",
   "pygments_lexer": "ipython3",
   "version": "3.9.7"
  }
 },
 "nbformat": 4,
 "nbformat_minor": 5
}