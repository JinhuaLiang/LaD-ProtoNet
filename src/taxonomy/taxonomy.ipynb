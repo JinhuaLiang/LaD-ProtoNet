{
 "cells": [
  {
   "cell_type": "code",
   "execution_count": null,
   "outputs": [],
   "source": [],
   "metadata": {
    "collapsed": false,
    "pycharm": {
     "name": "#%%\n"
    }
   }
  },
  {
   "cell_type": "code",
   "execution_count": null,
   "outputs": [],
   "source": [
    "def init_as_taxonomy(path_to_json: str) -> dict:\n",
    "    \"\"\" Initialise taxonomy with AudioSet taxonomy.\n",
    "        E.g.\n",
    "            taxonomy = init_taxonomy(path_to_json) # taxonomy = {\n",
    "                'mid': {'name': , 'child_mids', 'restrictions', 'parent_mids', 'ancestor_mid'},\n",
    "                ...\n",
    "                }\n",
    "    \"\"\"\n",
    "    taxonomy = {}\n",
    "    with open(path_to_json, 'rb') as f:\n",
    "        meta = json.load(f)\n",
    "    for cat in meta:\n",
    "        tmp = {}\n",
    "        tmp['name'] = cat['name']\n",
    "        tmp['child_mid'] = cat['child_ids']\n",
    "        tmp['restrictions'] = cat['restrictions']\n",
    "        tmp['parent_mid'] = []\n",
    "        tmp['ancestor_mid'] = []\n",
    "\n",
    "        taxonomy[cat['id']] = tmp\n",
    "\n",
    "    return taxonomy"
   ],
   "metadata": {
    "collapsed": false,
    "pycharm": {
     "name": "#%%\n"
    }
   }
  },
  {
   "cell_type": "code",
   "execution_count": null,
   "outputs": [],
   "source": [
    "as_taxonomy = init_as_taxonomy('./ontology.json')\n",
    "print(as_taxonomy['/m/09b5t']['child_mid'])  # check the result\n",
    "print(len(as_taxonomy)) # check the number of categories in taxonomy"
   ],
   "metadata": {
    "collapsed": false,
    "pycharm": {
     "name": "#%%\n"
    }
   }
  },
  {
   "cell_type": "code",
   "execution_count": null,
   "outputs": [],
   "source": [
    "def setup_tree_structure(taxonomy: dict) -> Tuple[dict]:\n",
    "    \"\"\" Initiate tree structure using a taxonomy with specified format.\"\"\"\n",
    "    _lvl = 0\n",
    "    inverse_tree = dict()\n",
    "    # Trace parent mids for each mid\n",
    "    for mid in taxonomy.keys():\n",
    "        for child_mid in taxonomy[mid]['child_mid']:\n",
    "            taxonomy[child_mid]['parent_mid'].append(mid)\n",
    "    # Trace ancestor nodes in taxonomy\n",
    "    _tmp = list()\n",
    "    for mid, cat_dict in taxonomy.items():\n",
    "        if cat_dict['parent_mid'] == []:\n",
    "            _tmp.append(mid)\n",
    "    inverse_tree[_lvl] = _tmp\n",
    "\n",
    "    # Iter to trace the level of each category in the taxonomy,\n",
    "    # note some of them may belong to multiple levels (multi-path to root)\n",
    "    while True:\n",
    "        _lvl += 1\n",
    "        _tmp = list()\n",
    "        for mid, cat_dict in taxonomy.items():\n",
    "            for pmid in cat_dict['parent_mid']:\n",
    "                if pmid in inverse_tree[_lvl - 1]:\n",
    "                    _tmp.append(mid)\n",
    "        if _tmp != []:\n",
    "            inverse_tree[_lvl] = set(_tmp)\n",
    "        else:\n",
    "            break\n",
    "    # Get the tree structure where the bottom level is denoted as 0\n",
    "    tree = list()\n",
    "    height = len(inverse_tree)\n",
    "    for lvl in range(height):\n",
    "        tree.append(inverse_tree[height-lvl-1])\n",
    "\n",
    "    return tree"
   ],
   "metadata": {
    "collapsed": false,
    "pycharm": {
     "name": "#%%\n"
    }
   }
  },
  {
   "cell_type": "code",
   "execution_count": null,
   "outputs": [],
   "source": [
    "tree = setup_tree_structure(as_taxonomy)\n",
    "l = 0\n",
    "for lvl in tree:\n",
    "    l += len(lvl)\n",
    "print(l)\n",
    "print(tree[5])"
   ],
   "metadata": {
    "collapsed": false,
    "pycharm": {
     "name": "#%%\n"
    }
   }
  },
  {
   "cell_type": "code",
   "execution_count": null,
   "outputs": [],
   "source": [
    "def measure_height(taxonomy: dict, tree: list) -> dict:\n",
    "    \"\"\" Measure the height of each class in the tree structure.\"\"\"\n",
    "    for mid, cat_dict in taxonomy.items():\n",
    "        _tmp = list()\n",
    "        for id, lvl in enumerate(tree):\n",
    "            if mid in lvl:\n",
    "                _tmp.append(id)\n",
    "        cat_dict['hierarchy'] = list(set(_tmp))\n",
    "\n",
    "    return taxonomy"
   ],
   "metadata": {
    "collapsed": false,
    "pycharm": {
     "name": "#%%\n"
    }
   }
  },
  {
   "cell_type": "code",
   "execution_count": null,
   "outputs": [],
   "source": [
    "taxonomy = measure_height(as_taxonomy, tree)\n",
    "print(taxonomy)"
   ],
   "metadata": {
    "collapsed": false,
    "pycharm": {
     "name": "#%%\n"
    }
   }
  },
  {
   "cell_type": "code",
   "execution_count": null,
   "outputs": [],
   "source": [
    "# Define WORKPLACE path\n",
    "# todo: make it ordinary one\n",
    "collection_dir = './ground_truth'\n",
    "dev_csv = 'dev.csv'\n",
    "eval_csv = 'eval.csv'\n",
    "voc_csv = 'vocabulary.csv'"
   ],
   "metadata": {
    "collapsed": false,
    "pycharm": {
     "name": "#%%\n"
    }
   }
  },
  {
   "cell_type": "code",
   "execution_count": null,
   "outputs": [],
   "source": [
    "def init_fsd_vocabulary(path_to_csv: str) -> dict:\n",
    "    \"\"\" Init the fsd50 dataset.\"\"\"\n",
    "    vocabulary = {}\n",
    "    with open(path_to_csv, 'r') as f1:\n",
    "        meta = pd.read_csv(f1, names=['index', 'label', 'id'])\n",
    "        _indices = meta['index'].values.tolist()\n",
    "        _labels = meta['label'].values.tolist()\n",
    "        _ids = meta['id'].values.tolist()\n",
    "        for index, label, id in zip(_indices, _labels, _ids):\n",
    "            vocabulary[id] = {\n",
    "                'index': index,\n",
    "                'label': label\n",
    "            }\n",
    "    return vocabulary"
   ],
   "metadata": {
    "collapsed": false,
    "pycharm": {
     "name": "#%%\n"
    }
   }
  },
  {
   "cell_type": "code",
   "execution_count": null,
   "outputs": [],
   "source": [
    "fsd_voc = init_fsd_vocabulary(os.path.join(collection_dir, voc_csv))"
   ],
   "metadata": {
    "collapsed": false,
    "pycharm": {
     "name": "#%%\n"
    }
   }
  },
  {
   "cell_type": "code",
   "execution_count": null,
   "outputs": [],
   "source": [
    "as_mid = list(taxonomy.keys())\n",
    "count = 0\n",
    "for mid in fsd_voc.keys():\n",
    "    if mid not in as_mid:\n",
    "        print(mid)\n",
    "    else:\n",
    "        count += 1\n",
    "print(count)"
   ],
   "metadata": {
    "collapsed": false,
    "pycharm": {
     "name": "#%%\n"
    }
   }
  },
  {
   "cell_type": "code",
   "execution_count": null,
   "outputs": [],
   "source": [
    "def filter_taxonomy(ori_taxonomy: dict, vocabulary: dict) -> dict:\n",
    "    \"\"\" Filter taxonomy according to the provided vocabulary.\"\"\"\n",
    "    mid_set = list(vocabulary.keys())\n",
    "    output = dict()\n",
    "    for mid, cat_dict in ori_taxonomy.items():\n",
    "        if mid in mid_set:\n",
    "            output[mid] = cat_dict\n",
    "    assert len(output) == len(vocabulary)\n",
    "    return output\n"
   ],
   "metadata": {
    "collapsed": false,
    "pycharm": {
     "name": "#%%\n"
    }
   }
  },
  {
   "cell_type": "code",
   "execution_count": null,
   "outputs": [],
   "source": [
    "fsd_taxonomy = filter_taxonomy(taxonomy, fsd_voc)"
   ],
   "metadata": {
    "collapsed": false,
    "pycharm": {
     "name": "#%%\n"
    }
   }
  },
  {
   "cell_type": "code",
   "execution_count": null,
   "outputs": [],
   "source": [
    "black_list = list()\n",
    "for mid, cat_dict in fsd_taxonomy.items():\n",
    "    if len(cat_dict['hierarchy']) != 1:\n",
    "        black_list.append(mid)\n",
    "        print(f\"{mid}-{fsd_voc[mid]['label']}: {cat_dict['hierarchy']}\")"
   ],
   "metadata": {
    "collapsed": false,
    "pycharm": {
     "name": "#%%\n"
    }
   }
  },
  {
   "cell_type": "code",
   "execution_count": null,
   "outputs": [],
   "source": [
    "def remove_class(ori_vocabulary: dict, black_list: dict) -> dict:\n",
    "    \"\"\" Remove classes from ori_vocabulary as per black_list.\"\"\"\n",
    "    for mid in black_list:\n",
    "        del ori_vocabulary[mid]\n",
    "    return ori_vocabulary"
   ],
   "metadata": {
    "collapsed": false,
    "pycharm": {
     "name": "#%%\n"
    }
   }
  },
  {
   "cell_type": "code",
   "execution_count": null,
   "outputs": [],
   "source": [
    "for i, lvl in enumerate(tree):\n",
    "    print(f\"{i}-th level: {len(lvl)}\")"
   ],
   "metadata": {
    "collapsed": false,
    "pycharm": {
     "name": "#%%\n"
    }
   }
  },
  {
   "cell_type": "code",
   "execution_count": null,
   "outputs": [],
   "source": [
    "def filter_tree(ori_tree: list,  vocabulary: dict) -> dict:\n",
    "    \"\"\" Filter tree according to the provided vocabulary.\"\"\"\n",
    "    mid_set = set(list(vocabulary.keys()))\n",
    "    output = [None] * len(ori_tree)  # create an empty list which has the same length as `ori_tree`\n",
    "    for lvl, l_set in enumerate(ori_tree):\n",
    "        output[lvl] = list((set(l_set) & mid_set))\n",
    "    return output"
   ],
   "metadata": {
    "collapsed": false,
    "pycharm": {
     "name": "#%%\n"
    }
   }
  },
  {
   "cell_type": "code",
   "execution_count": null,
   "outputs": [],
   "source": [
    "fsd_tree = filter_tree(tree, fsd_voc)"
   ],
   "metadata": {
    "collapsed": false,
    "pycharm": {
     "name": "#%%\n"
    }
   }
  },
  {
   "cell_type": "code",
   "execution_count": null,
   "outputs": [],
   "source": [
    "for i, lvl in enumerate(fsd_tree):\n",
    "    print(f\"{i}-th level: {len(lvl)}\")"
   ],
   "metadata": {
    "collapsed": false,
    "pycharm": {
     "name": "#%%\n"
    }
   }
  },
  {
   "cell_type": "code",
   "execution_count": null,
   "outputs": [],
   "source": [
    "remain_voc = remove_class(fsd_voc, [*fsd_tree[1], *fsd_tree[4], *fsd_tree[5]])"
   ],
   "metadata": {
    "collapsed": false,
    "pycharm": {
     "name": "#%%\n"
    }
   }
  },
  {
   "cell_type": "code",
   "execution_count": null,
   "outputs": [],
   "source": [
    "remain_fsd_tree = filter_tree(tree, remain_voc)\n",
    "for i, lvl in enumerate(remain_fsd_tree):\n",
    "    print(f\"{i}-th level: {len(lvl)}\")"
   ],
   "metadata": {
    "collapsed": false,
    "pycharm": {
     "name": "#%%\n"
    }
   }
  },
  {
   "cell_type": "code",
   "execution_count": null,
   "outputs": [],
   "source": [
    "remain_fsd_taxonomy = filter_taxonomy(fsd_taxonomy, remain_voc)\n",
    "black_list = list()\n",
    "for mid, cat_dict in remain_fsd_taxonomy.items():\n",
    "    if len(cat_dict['hierarchy']) != 1:\n",
    "        black_list.append(mid)\n",
    "        print(f\"{mid}-{fsd_voc[mid]['label']}: {cat_dict['hierarchy']}\")"
   ],
   "metadata": {
    "collapsed": false,
    "pycharm": {
     "name": "#%%\n"
    }
   }
  },
  {
   "cell_type": "code",
   "execution_count": null,
   "outputs": [],
   "source": [
    "print(len(fsd_taxonomy))"
   ],
   "metadata": {
    "collapsed": false,
    "pycharm": {
     "name": "#%%\n"
    }
   }
  },
  {
   "cell_type": "code",
   "execution_count": null,
   "outputs": [],
   "source": [
    "remain_voc = remove_class(remain_voc, black_list)"
   ],
   "metadata": {
    "collapsed": false,
    "pycharm": {
     "name": "#%%\n"
    }
   }
  },
  {
   "cell_type": "code",
   "execution_count": null,
   "outputs": [],
   "source": [
    "remain_fsd_tree = filter_tree(tree, remain_voc)\n",
    "for i, lvl in enumerate(remain_fsd_tree):\n",
    "    print(f\"{i}-th level: {len(lvl)}\")\n",
    "remain_fsd_taxonomy = filter_taxonomy(fsd_taxonomy, remain_voc)"
   ],
   "metadata": {
    "collapsed": false,
    "pycharm": {
     "name": "#%%\n"
    }
   }
  },
  {
   "cell_type": "code",
   "execution_count": null,
   "outputs": [],
   "source": [
    "black_list = list()\n",
    "for mid, cat_dict in remain_fsd_taxonomy.items():\n",
    "    if len(cat_dict['hierarchy']) != 1:\n",
    "        black_list.append(mid)\n",
    "        print(f\"{mid}-{fsd_voc[mid]['label']}: {cat_dict['hierarchy']}\")"
   ],
   "metadata": {
    "collapsed": false,
    "pycharm": {
     "name": "#%%\n"
    }
   }
  },
  {
   "cell_type": "code",
   "execution_count": null,
   "outputs": [],
   "source": [
    "print(len(remain_voc))"
   ],
   "metadata": {
    "collapsed": false,
    "pycharm": {
     "name": "#%%\n"
    }
   }
  }
 ],
 "metadata": {
  "kernelspec": {
   "display_name": "Python 3",
   "language": "python",
   "name": "python3"
  },
  "language_info": {
   "codemirror_mode": {
    "name": "ipython",
    "version": 2
   },
   "file_extension": ".py",
   "mimetype": "text/x-python",
   "name": "python",
   "nbconvert_exporter": "python",
   "pygments_lexer": "ipython2",
   "version": "2.7.6"
  }
 },
 "nbformat": 4,
 "nbformat_minor": 0
}