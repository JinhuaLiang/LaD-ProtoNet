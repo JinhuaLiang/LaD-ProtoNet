{
 "cells": [
  {
   "cell_type": "code",
   "execution_count": 1,
   "outputs": [],
   "source": [
    "import os\n",
    "import torch\n",
    "import numpy as np\n",
    "import pickle as pkl\n",
    "import sys\n",
    "\n",
    "sys.path.insert(1, '../')\n",
    "from src.fsd_meta import fsd50k_select_ids, fsd50k_blacklist, FSD50K_MetaContainer"
   ],
   "metadata": {
    "collapsed": false,
    "pycharm": {
     "name": "#%%\n"
    }
   }
  },
  {
   "cell_type": "code",
   "execution_count": 2,
   "outputs": [],
   "source": [
    "taxonomy_path = './taxonomy/ontology.json'\n",
    "vocabulary_path = './taxonomy/ground_truth/vocabulary.csv'"
   ],
   "metadata": {
    "collapsed": false,
    "pycharm": {
     "name": "#%%\n"
    }
   }
  },
  {
   "cell_type": "code",
   "execution_count": 3,
   "outputs": [
    {
     "name": "stdout",
     "output_type": "stream",
     "text": [
      "143\n"
     ]
    }
   ],
   "source": [
    "all_ids = list()\n",
    "for _l in fsd50k_select_ids.values():\n",
    "    all_ids.extend(_l)\n",
    "\n",
    "print(len(all_ids))"
   ],
   "metadata": {
    "collapsed": false,
    "pycharm": {
     "name": "#%%\n"
    }
   }
  },
  {
   "cell_type": "markdown",
   "source": [
    "### Create a mapping from id to label"
   ],
   "metadata": {
    "collapsed": false,
    "pycharm": {
     "name": "#%% md\n"
    }
   }
  },
  {
   "cell_type": "code",
   "execution_count": 4,
   "outputs": [
    {
     "name": "stdout",
     "output_type": "stream",
     "text": [
      "200\n",
      "Accelerating_and_revving_and_vroom\n",
      "/m/07q2z82\n"
     ]
    }
   ],
   "source": [
    "container = FSD50K_MetaContainer(as_taxonomy_path=taxonomy_path, fsd_vocabulary_path=vocabulary_path)\n",
    "index2mid, index2label = dict(), dict()\n",
    "for _k, _v in container.curr_vocabulary.items():\n",
    "    index2label[_v['index']] = _v['label']\n",
    "    index2mid[_v['index']] = _k\n",
    "\n",
    "print(len(index2label))\n",
    "print(index2label[0])\n",
    "print(index2mid[0])"
   ],
   "metadata": {
    "collapsed": false,
    "pycharm": {
     "name": "#%%\n"
    }
   }
  },
  {
   "cell_type": "markdown",
   "source": [
    "### Filter redundant labels in the container vocabulary"
   ],
   "metadata": {
    "collapsed": false,
    "pycharm": {
     "name": "#%% md\n"
    }
   }
  },
  {
   "cell_type": "code",
   "execution_count": 5,
   "outputs": [
    {
     "name": "stdout",
     "output_type": "stream",
     "text": [
      "143\n"
     ]
    }
   ],
   "source": [
    "all_mids = list()\n",
    "for _id in all_ids:\n",
    "    all_mids.append(index2mid[_id])\n",
    "\n",
    "container.curr_vocabulary = container.remove_class(\n",
    "    container.curr_vocabulary,\n",
    "    [mid for mid in container.curr_vocabulary.keys() if mid not in all_mids]\n",
    ")\n",
    "\n",
    "print(len(container.curr_vocabulary))  # check the num of classes in the current vocabulary"
   ],
   "metadata": {
    "collapsed": false,
    "pycharm": {
     "name": "#%%\n"
    }
   }
  },
  {
   "cell_type": "markdown",
   "source": [
    "### Re-construct tree and taxonomy as per vocabulary"
   ],
   "metadata": {
    "collapsed": false,
    "pycharm": {
     "name": "#%% md\n"
    }
   }
  },
  {
   "cell_type": "code",
   "execution_count": 6,
   "outputs": [
    {
     "name": "stdout",
     "output_type": "stream",
     "text": [
      "143\n",
      "143\n"
     ]
    }
   ],
   "source": [
    "container.curr_taxonomy = container.filter_taxonomy(container.curr_taxonomy, container.curr_vocabulary)\n",
    "container.curr_tree = container.filter_tree(container.curr_tree, container.curr_vocabulary)\n",
    "\n",
    "cnt = 0\n",
    "for _lvl in container.curr_tree:\n",
    "    cnt += len(_lvl)\n",
    "\n",
    "print(cnt)\n",
    "print(len(container.curr_taxonomy))"
   ],
   "metadata": {
    "collapsed": false,
    "pycharm": {
     "name": "#%%\n"
    }
   }
  },
  {
   "cell_type": "markdown",
   "source": [
    "### Find path to root w.r.t each class in our taxonomy"
   ],
   "metadata": {
    "collapsed": false,
    "pycharm": {
     "name": "#%% md\n"
    }
   }
  },
  {
   "cell_type": "code",
   "execution_count": null,
   "outputs": [],
   "source": [
    "class AudioSetTaxonomy(object):\n",
    "    def __init__(self, taxonomy_path: str, vocabulary_path: str) -> None:\n",
    "        container = FSD50K_MetaContainer(as_taxonomy_path=taxonomy_path, fsd_vocabulary_path=vocabulary_path)\n",
    "        self.taxonomy = container.as_taxonomy\n",
    "        self.paths = self.traverse_paths()\n",
    "\n",
    "    def traverse_paths(self):\n",
    "        res = list()\n",
    "        paths, pt2midnodes = list(), dict()\n",
    "        # Start from leaf nodes\n",
    "        path_id = 0\n",
    "        for mid, attr in self.taxonomy.items():\n",
    "            if attr['child_mid'] == []:\n",
    "                paths.append([mid])  # e.g. path_0=[mid, ..., root]\n",
    "                # e.g. pt2midnodes[current point] = [path_id, ...]\n",
    "                try:\n",
    "                    pt2midnodes[mid].append(path_id)\n",
    "                except KeyError:\n",
    "                    pt2midnodes[mid] = [path_id]\n",
    "\n",
    "                path_id += 1\n",
    "\n",
    "        # loop over to construct paths to root\n",
    "        while True:\n",
    "            path_id, _tmp_paths, _tmp_used, _tmp_pt = 0, list(), list(), dict()\n",
    "            for mid, attr in self.taxonomy.items():\n",
    "                # add the mid to the end of paths if the current point to its child class\n",
    "                # also add this mid to the next current point set\n",
    "                for _node in pt2midnodes.keys():\n",
    "                    if _node in attr['child_mid']:\n",
    "                        for _pid in pt2midnodes[_node]:\n",
    "                            _tmp_paths.append([*paths[_pid], mid])\n",
    "                            _tmp_used.append(_pid)\n",
    "\n",
    "                            try:\n",
    "                                _tmp_pt[mid].append(path_id)\n",
    "                            except KeyError:\n",
    "                                _tmp_pt[mid] = [path_id]\n",
    "\n",
    "                            path_id += 1\n",
    "\n",
    "            _complete_path = [p for id, p in enumerate(paths) if id not in _tmp_used]\n",
    "            if len(_complete_path) != 0:\n",
    "                res.extend(_complete_path)\n",
    "\n",
    "            if len(_tmp_paths) == 0 and len(_tmp_pt) == 0:\n",
    "                print(\"Paths are searched completely.\")\n",
    "                break\n",
    "            else:\n",
    "                paths, pt2midnodes= _tmp_paths, _tmp_pt\n",
    "\n",
    "        return res\n",
    "\n",
    "    def get_taxonomy_distance(self, mids):\n",
    "        \"\"\" Find the lowest common ancestor of a pair of classes\"\"\"\n",
    "        m1, m2 = mids\n",
    "        p1, p2 = list(), list()\n",
    "\n",
    "        for _p in self.paths:\n",
    "            for _lvl in range(len(_p)):\n",
    "                if _p[_lvl] == m1:\n",
    "                    p1.append(_p[_lvl:])\n",
    "\n",
    "                if _p[_lvl] == m2:\n",
    "                    p2.append(_p[_lvl:])\n",
    "\n",
    "        distances = list()\n",
    "        for _p1 in p1:\n",
    "            for _p2 in p2:\n",
    "                distances.append(self.path_distance(_p1, _p2))\n",
    "\n",
    "        return np.min(distances)\n",
    "\n",
    "    @classmethod\n",
    "    def path_distance(self, a, b):\n",
    "        \"\"\" Measure number of intermediate nodes between two array-like paths. e.g., path_0 = [leaf, ..., root].\"\"\"\n",
    "        la, lb = len(a), len(b)\n",
    "        a, b = np.array(a), np.array(b)\n",
    "        if a.shape[0] < b.shape[0]:\n",
    "            n_pad = b.shape[0] - a.shape[0]\n",
    "            a = np.pad(a, (n_pad, 0), 'constant', constant_values=0)\n",
    "        elif a.shape[0] > b.shape[0]:\n",
    "            n_pad = a.shape[0] - b.shape[0]\n",
    "            b = np.pad(b, (n_pad, 0), 'constant', constant_values=0)\n",
    "\n",
    "        n_shared_nodes = np.count_nonzero((a==b))\n",
    "\n",
    "        return la + lb - n_shared_nodes * 2"
   ],
   "metadata": {
    "collapsed": false,
    "pycharm": {
     "name": "#%%\n"
    }
   }
  },
  {
   "cell_type": "code",
   "execution_count": null,
   "outputs": [],
   "source": [
    "taxonomy = AudioSetTaxonomy(taxonomy_path, vocabulary_path)\n",
    "print(f\"The result: {taxonomy.get_taxonomy_distance(['/m/07phhsh', '/m/05n1m'])}\")  # /m/07phhsh, /m/07qh7jl, /m/05n1m"
   ],
   "metadata": {
    "collapsed": false,
    "pycharm": {
     "name": "#%%\n"
    }
   }
  },
  {
   "cell_type": "markdown",
   "source": [
    "### Measure distance between two classes by counting the intermediate nodes between them"
   ],
   "metadata": {
    "collapsed": false,
    "pycharm": {
     "name": "#%% md\n"
    }
   }
  },
  {
   "cell_type": "code",
   "execution_count": null,
   "outputs": [],
   "source": [
    "distance_matrix = np.ones((200, 200), dtype=int) * (-1)  # if the element is -1 the distance is not available in our dataset\n",
    "# Row denotes a specific label and col denotes another label to this label\n",
    "for row in range(200):\n",
    "    for col in range(200):\n",
    "        distance_matrix[row][col] = taxonomy.get_taxonomy_distance([index2mid[row], index2mid[col]])\n",
    "\n",
    "with open('./fsd50k_distance_matrix.pkl', 'wb') as f:\n",
    "    pkl.dump(distance_matrix, f)\n",
    "\n",
    "print(distance_matrix)"
   ],
   "metadata": {
    "collapsed": false,
    "pycharm": {
     "name": "#%%\n"
    }
   }
  },
  {
   "cell_type": "code",
   "execution_count": null,
   "outputs": [],
   "source": [
    "def create_embedding_layer(weight_path: str, beta: float, slt_classes: list, trainable: bool = False):\n",
    "    with open('./fsd50k_distance_matrix.pkl', 'rb') as f:\n",
    "        weight_matrix = pkl.load(f)\n",
    "\n",
    "    weight_matrix = torch.from_numpy(weight_matrix)\n",
    "    num_embeddings, embedding_dim = weight_matrix.size()\n",
    "    emb_layer = torch.nn.Embedding(num_embeddings, embedding_dim)\n",
    "    emb_layer.load_state_dict({\"weight\": weight_matrix})\n",
    "    if not trainable:\n",
    "        emb_layer.weight.requires_grad = False\n",
    "\n",
    "    return emb_layer"
   ],
   "metadata": {
    "collapsed": false,
    "pycharm": {
     "name": "#%%\n"
    }
   }
  },
  {
   "cell_type": "code",
   "execution_count": null,
   "outputs": [],
   "source": [
    "emb_layer, num_embeddings, embedding_dim = create_embedding_layer(weight_path='./fsd50k_distance_matrix.pkl', beta=30, slt_classes=[])\n",
    "\n",
    "print(emb_layer)\n",
    "print(num_embeddings)\n",
    "print(embedding_dim)"
   ],
   "metadata": {
    "collapsed": false,
    "pycharm": {
     "name": "#%%\n"
    }
   }
  },
  {
   "cell_type": "code",
   "execution_count": null,
   "outputs": [],
   "source": [
    "a = np.array([0, 1, 2, 3])\n",
    "b = np.array([4, 1, 2, 3])\n",
    "np.count_nonzero((a == b))"
   ],
   "metadata": {
    "collapsed": false,
    "pycharm": {
     "name": "#%%\n"
    }
   }
  },
  {
   "cell_type": "code",
   "execution_count": null,
   "outputs": [],
   "source": [
    "a = np.array([0, 1, 2, 3])\n",
    "b = np.array([4, 1, 2, 3])\n",
    "np.count_nonzero((a == b))"
   ],
   "metadata": {
    "collapsed": false,
    "pycharm": {
     "name": "#%%\n"
    }
   }
  },
  {
   "cell_type": "code",
   "execution_count": null,
   "outputs": [],
   "source": [],
   "metadata": {
    "collapsed": false,
    "pycharm": {
     "name": "#%%\n"
    }
   }
  }
 ],
 "metadata": {
  "kernelspec": {
   "display_name": "Python 3",
   "language": "python",
   "name": "python3"
  },
  "language_info": {
   "codemirror_mode": {
    "name": "ipython",
    "version": 2
   },
   "file_extension": ".py",
   "mimetype": "text/x-python",
   "name": "python",
   "nbconvert_exporter": "python",
   "pygments_lexer": "ipython2",
   "version": "2.7.6"
  }
 },
 "nbformat": 4,
 "nbformat_minor": 0
}