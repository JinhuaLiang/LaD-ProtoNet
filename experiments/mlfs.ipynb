{
 "cells": [
  {
   "cell_type": "code",
   "execution_count": 1,
   "outputs": [],
   "source": [
    "import sys\n",
    "sys.path.insert(1, '../')\n",
    "from src.fsd_meta import FSD50K_MetaContainer"
   ],
   "metadata": {
    "collapsed": false,
    "pycharm": {
     "name": "#%%\n"
    }
   }
  },
  {
   "cell_type": "code",
   "execution_count": 2,
   "outputs": [],
   "source": [
    "taxonomy_path = 'D:/JetBrains/PyCharm 2021.2.2/Projects/LOCAL_WORKPLACE/AudioTagging/src/taxonomy/ontology.json'\n",
    "vocabulary_path = 'D:/JetBrains/PyCharm 2021.2.2/Projects/LOCAL_WORKPLACE/AudioTagging/src/taxonomy/ground_truth/vocabulary.csv'\n",
    "container = FSD50K_MetaContainer(as_taxonomy_path=taxonomy_path, fsd_vocabulary_path=vocabulary_path)"
   ],
   "metadata": {
    "collapsed": false,
    "pycharm": {
     "name": "#%%\n"
    }
   }
  },
  {
   "cell_type": "code",
   "execution_count": 3,
   "outputs": [],
   "source": [
    "index2label = dict()\n",
    "for v in container.curr_vocabulary.values():\n",
    "    index2label[v['index']] = v['label']"
   ],
   "metadata": {
    "collapsed": false,
    "pycharm": {
     "name": "#%%\n"
    }
   }
  },
  {
   "cell_type": "code",
   "execution_count": 4,
   "outputs": [
    {
     "name": "stdout",
     "output_type": "stream",
     "text": [
      "['Female_singing', 'Screaming', 'Run', 'Chicken_and_rooster', 'Fowl', 'Organ', 'Bowed_string_instrument', 'Thunder', 'Tick-tock', 'Sawing', 'Toilet_flush', 'Coin_(dropping)', 'Boom', 'Camera', 'Drip']\n"
     ]
    }
   ],
   "source": [
    "ids = [74, 145, 141, 32, 81, 123, 19, 171, 174, 142, 175, 41, 18, 25, 66]\n",
    "labels = list()\n",
    "for id in ids:\n",
    "    labels.append(index2label[id])\n",
    "# print(labels)"
   ],
   "metadata": {
    "collapsed": false,
    "pycharm": {
     "name": "#%%\n"
    }
   }
  },
  {
   "cell_type": "code",
   "execution_count": 5,
   "outputs": [],
   "source": [
    "# test on tapnet_0\n",
    "# epoch_7-0.3995.pth\n",
    "val_map_1=[0.52708714, 0.31431403, 0.37157539, 0.41811318, 0.48820519, 0.53503651, 0.46908001, 0.35588972, 0.2362446 ,\n",
    "         0.19837903, 0.29660302, 0.2787204, 0.54440154, 0.29294841, 0.22275516]\n",
    "val_roc_auc_score_1=[0.89623854, 0.86457991, 0.86623715, 0.84677535, 0.84434235, 0.93773342\n",
    ", 0.93783362, 0.87161009, 0.81442203, 0.73033988, 0.81945237, 0., 0.84767391\n",
    ", 0.9276637 , 0.84930304, 0.80091267]\n",
    "val_f1_score_1=[0.50508423, 0.38872404, 0.4125    , 0.45315695, 0.48599498, 0.57370031\n",
    ", 0.51958184, 0.41773326, 0.32357177, 0.23887793, 0.34493956, 0.33544412\n",
    ", 0.55827221, 0.36918562, 0.28907721]\n",
    "val_loss_1=2210.6823095703126\n",
    "Overall_eval_map_1=0.369957\n",
    "Overall_eval_roc_auc_score_1=0.857008\n",
    "Overall_eval_f1_score_1=0.414390\n",
    "Overall_eval_loss_1=2210.682310"
   ],
   "metadata": {
    "collapsed": false,
    "pycharm": {
     "name": "#%%\n"
    }
   }
  },
  {
   "cell_type": "code",
   "execution_count": 6,
   "outputs": [],
   "source": [
    "# test on tapnet_0\n",
    "# epoch_7-0.3796.pth\n",
    "val_map_2=[0.61371632, 0.32026706, 0.38693661, 0.55171585, 0.58898489, 0.46296245\n",
    ", 0.50708458, 0.38827713, 0.33969379, 0.15288139, 0.27697386, 0.25474519\n",
    ", 0.49940351, 0.28046584, 0.19465819]\n",
    "val_roc_auc_score_2=[0.93151821, 0.86450407, 0.87801543, 0.88467885, 0.88177538, 0.93708592\n",
    ", 0.94510926, 0.89948552, 0.86405235, 0.69652905, 0.80759008, 0.8276669\n",
    ", 0.91427602, 0.83553957, 0.77572573]\n",
    "val_f1_score_2=[0.59224368, 0.3822471 , 0.40799889, 0.54597892, 0.57650221, 0.53038674\n",
    ", 0.5477687 , 0.44313012, 0.4044516 , 0.20749381, 0.33551769, 0.31404217\n",
    ", 0.53203744, 0.34852547, 0.27295562]\n",
    "val_loss_2=2170.01615234375\n",
    "Overall_eval_map_2=0.387918\n",
    "Overall_eval_roc_auc_score_2=0.862903\n",
    "Overall_eval_f1_score_2=0.429419\n",
    "Overall_eval_loss_2=2170.016152"
   ],
   "metadata": {
    "collapsed": false,
    "pycharm": {
     "name": "#%%\n"
    }
   }
  },
  {
   "cell_type": "code",
   "execution_count": 22,
   "outputs": [
    {
     "data": {
      "text/plain": "<matplotlib.legend.Legend at 0x1ff3dc133d0>"
     },
     "execution_count": 22,
     "metadata": {},
     "output_type": "execute_result"
    },
    {
     "data": {
      "text/plain": "<Figure size 432x288 with 1 Axes>",
      "image/png": "[encoded data removed]"
     },
     "metadata": {
      "needs_background": "light"
     },
     "output_type": "display_data"
    }
   ],
   "source": [
    "import matplotlib.pyplot as plt\n",
    "x_1 = list(range(len(val_map_1)))\n",
    "width = 0.3\n",
    "x_2 = [xi + width for xi in x_1]\n",
    "axs = plt.subplot()\n",
    "axs.bar(x_1, val_map_1, width=width, label='decay=-1', tick_label=labels)\n",
    "axs.bar(x_2, val_map_2, width=width, label='decay=0', tick_label=labels)\n",
    "plt.xticks(rotation=90)\n",
    "plt.legend()"
   ],
   "metadata": {
    "collapsed": false,
    "pycharm": {
     "name": "#%%\n"
    }
   }
  },
  {
   "cell_type": "code",
   "execution_count": 6,
   "outputs": [],
   "source": [
    "import sys\n",
    "sys.path.insert(1, '../')\n",
    "from src.fsd_meta import *"
   ],
   "metadata": {
    "collapsed": false,
    "pycharm": {
     "name": "#%%\n"
    }
   }
  },
  {
   "cell_type": "code",
   "execution_count": 7,
   "outputs": [
    {
     "name": "stdout",
     "output_type": "stream",
     "text": [
      "[37, 33, 75, 198, 84, 85, 43, 111, 107, 148, 186, 77, 30, 44, 31, 21, 29, 39, 190, 157, 150, 22, 149, 158, 131, 91, 116, 15, 7, 50, 14, 82, 28, 59, 126, 57, 112, 67, 181, 90, 166, 88, 20, 125, 104, 144, 96, 127, 97, 135, 134, 122, 162, 177, 119, 180, 42, 182, 26, 23, 153, 178, 140, 12, 65, 155, 154, 64, 3, 83, 55, 40, 169, 147, 197, 199, 17, 183, 136, 129, 10, 94, 16, 35, 152, 117, 102, 62, 0, 124, 79, 118, 133, 92, 143, 146, 52, 168, 110, 159, 6, 73, 51, 54, 49, 89, 103, 68, 138, 195, 1, 189, 93, 179, 164, 80, 76, 71, 160, 130, 105, 151, 114, 56, 188, 128, 58, 53, 74, 145, 141, 32, 81, 123, 19, 171, 174, 142, 175, 41, 18, 25, 66]\n"
     ]
    }
   ],
   "source": [
    "all_ids = list()\n",
    "for v in fsd50k_select_ids.values():\n",
    "    all_ids.extend(v)\n",
    "print(all_ids)"
   ],
   "metadata": {
    "collapsed": false,
    "pycharm": {
     "name": "#%%\n"
    }
   }
  },
  {
   "cell_type": "code",
   "execution_count": 8,
   "outputs": [],
   "source": [
    "taxonomy_path = 'D:/JetBrains/PyCharm 2021.2.2/Projects/LOCAL_WORKPLACE/AudioTagging/src/taxonomy/ontology.json'\n",
    "vocabulary_path = 'D:/JetBrains/PyCharm 2021.2.2/Projects/LOCAL_WORKPLACE/AudioTagging/src/taxonomy/ground_truth/vocabulary.csv'\n",
    "container = FSD50K_MetaContainer(as_taxonomy_path=taxonomy_path, fsd_vocabulary_path=vocabulary_path)"
   ],
   "metadata": {
    "collapsed": false,
    "pycharm": {
     "name": "#%%\n"
    }
   }
  },
  {
   "cell_type": "code",
   "execution_count": 11,
   "outputs": [
    {
     "data": {
      "text/plain": "['/m/07q2z82',\n '/m/0mkg',\n '/m/042v_gx',\n '/m/0k5j',\n '/m/07pp_mv',\n '/m/0jbk',\n '/m/028ght',\n '/m/05tny_',\n '/m/0bm02',\n '/m/018vs',\n '/m/03dnzn',\n '/m/0395lw',\n '/m/0199g',\n '/m/0gy1t2s',\n '/m/015p6',\n '/m/020bb7',\n '/m/019jd',\n '/m/0dv3j',\n '/m/07qqyl4',\n '/m/0l14_3',\n '/m/01kcd',\n '/m/0lyf6',\n '/m/03q5_w',\n '/m/01bjv',\n '/m/07pjwq1',\n '/m/0dv5r',\n '/m/0k4j',\n '/t/dd00134',\n '/m/01yrx',\n '/m/07rkbfh',\n '/m/053hz1',\n '/m/03cczk',\n '/m/09b5t',\n '/m/0ytgt',\n '/m/0f8s22',\n '/m/07q7njn',\n '/m/07pggtn',\n '/m/07rgt08',\n '/m/03w41f',\n '/m/0l15bq',\n '/m/01x3z',\n '/m/0242l',\n '/m/01m2v',\n '/m/01h8n0',\n '/m/01b_21',\n '/m/0239kh',\n '/m/07qs1cx',\n '/m/07pzfmf',\n '/m/0bm0k',\n '/m/09xqv',\n '/m/04s8yn',\n '/m/03qtwd',\n '/t/dd00112',\n '/m/07plct2',\n '/m/0463cq4',\n '/m/0642b4',\n '/m/023pjk',\n '/m/01qbl',\n '/m/04brg2',\n '/m/0bt9lr',\n '/m/068hy',\n '/t/dd00071',\n '/m/02dgv',\n '/m/03wwcy',\n '/m/0fqfqc',\n '/m/01d380',\n '/m/07r5v4s',\n '/m/026t6',\n '/m/02hnl',\n '/m/02sgy',\n '/m/02mk9',\n '/t/dd00130',\n '/m/014zdl',\n '/m/02_nn',\n '/t/dd00004',\n '/m/02zsn',\n '/m/07p7b8y',\n '/m/025_jnm',\n '/m/02_41',\n '/m/0g6b5',\n '/m/0cmf2',\n '/m/025rv6n',\n '/m/09ld4',\n '/m/0dxrf',\n '/m/07s0dtb',\n '/m/07r660_',\n '/m/039jq',\n '/m/0dwtp',\n '/m/0mbct',\n '/m/0ghcn6',\n '/m/0342h',\n '/m/01dwxx',\n '/m/032s66',\n '/m/07swgks',\n '/m/03l9g',\n '/m/0k65p',\n '/m/03qjg',\n '/m/03m5k',\n '/m/03qtq',\n '/m/07rjwbb',\n '/t/dd00012',\n '/m/09l8g',\n '/m/07pb8fc',\n '/m/03vt0',\n '/m/05148p4',\n '/m/03v3yw',\n '/m/07r4wb8',\n '/m/01j3sz',\n '/m/04k94',\n '/m/0ch8v',\n '/t/dd00003',\n '/m/05zppz',\n '/m/0j45pbj',\n '/m/0dwsp',\n '/m/02x984l',\n '/t/dd00077',\n '/m/07qrkrw',\n '/m/0fx9l',\n '/m/012f08',\n '/m/04_sv',\n '/m/04rlf',\n '/m/04szw',\n '/m/05kq4',\n '/m/013y1f',\n '/m/05mxj0q',\n '/m/0l14md',\n '/m/05r5c',\n '/m/0fx80y',\n '/m/07prgkl',\n '/m/0_ksk',\n '/m/01m4t',\n '/m/02yds9',\n '/m/0ltv',\n '/m/06d_3',\n '/m/06mb1',\n '/m/07r10fb',\n '/m/02bm9n',\n '/m/07qn4z3',\n '/m/05r5wn',\n '/m/09hlz4',\n '/m/01hnzm',\n '/m/06h7j',\n '/m/01b82r',\n '/m/01lsmm',\n '/m/01hgjl',\n '/m/03qc9zr',\n '/m/07q8k13',\n '/m/07rn7sz',\n '/m/07p6fty',\n '/m/07plz5l',\n '/m/015lz1',\n '/m/0130jx',\n '/m/03kmc9',\n '/m/06_fw',\n '/m/07rjzl8',\n '/m/02y_763',\n '/m/06rvn',\n '/m/01hsr_',\n '/m/09x0r',\n '/m/0brhx',\n '/m/07rrlb6',\n '/m/07q6cd_',\n '/m/0j6m2',\n '/m/07s0s5r',\n '/m/0195fx',\n '/m/01p970',\n '/m/07brj',\n '/m/07qcpgn',\n '/m/07qcx4z',\n '/m/07cx4',\n '/m/07qnq_y',\n '/m/0ngt1',\n '/m/0jb2l',\n '/m/07qjznt',\n '/m/07qjznl',\n '/m/01jt3m',\n '/m/07k1x',\n '/m/0btp2',\n '/m/07jdr',\n '/m/07pqc89',\n '/m/07r04',\n '/m/07gql',\n '/m/0c2wf',\n '/m/0316dw',\n '/m/07yv9',\n '/m/0912c9',\n '/m/07pbtc8',\n '/m/0838f',\n '/m/02jz0l',\n '/m/034srq',\n '/m/02rtxlg',\n '/m/07rqsjt',\n '/m/01280g',\n '/m/03m9d0z',\n '/m/026fgl',\n '/m/085jw',\n '/m/083vt',\n '/m/081rb',\n '/m/07sr1lc',\n '/m/01s0vc']"
     },
     "execution_count": 11,
     "metadata": {},
     "output_type": "execute_result"
    }
   ],
   "source": [
    "id2mids = list(range(len(container.fsd_vocabulary)))\n",
    "for k, v in container.fsd_vocabulary.items():\n",
    "    id2mids[v['index']] = k\n",
    "id2mids"
   ],
   "metadata": {
    "collapsed": false,
    "pycharm": {
     "name": "#%%\n"
    }
   }
  },
  {
   "cell_type": "code",
   "execution_count": 33,
   "outputs": [
    {
     "data": {
      "text/plain": "143"
     },
     "execution_count": 33,
     "metadata": {},
     "output_type": "execute_result"
    }
   ],
   "source": [
    "all_mids = list()\n",
    "for id in all_ids:\n",
    "    all_mids.append(id2mids[id])\n",
    "# container.remove_class(container.curr_vocabulary, list(set(list(range(200))) - set(all_mids)))\n",
    "# container.filter_taxonomy(container.curr_taxonomy, container.curr_vocabulary)\n",
    "# len(container.curr_taxonomy)\n",
    "len(all_mids)"
   ],
   "metadata": {
    "collapsed": false,
    "pycharm": {
     "name": "#%%\n"
    }
   }
  },
  {
   "cell_type": "code",
   "execution_count": 50,
   "outputs": [
    {
     "name": "stdout",
     "output_type": "stream",
     "text": [
      "90\n",
      "25\n",
      "28\n"
     ]
    }
   ],
   "source": [
    "leaf_node = list()\n",
    "rest = list()\n",
    "actual_parent = list()\n",
    "mid_set = set(all_mids)\n",
    "for mid in all_mids:\n",
    "    if len(container.curr_taxonomy[mid]['child_mid']) == 0:\n",
    "        leaf_node.append(mid)\n",
    "    else:\n",
    "        if len(set(container.curr_taxonomy[mid]['child_mid']) & mid_set) != 0:\n",
    "            actual_parent.append(mid)\n",
    "        else:\n",
    "            rest.append(mid)\n",
    "print(len(leaf_node))\n",
    "print(len(actual_parent))\n",
    "print(len(rest))"
   ],
   "metadata": {
    "collapsed": false,
    "pycharm": {
     "name": "#%%\n"
    }
   }
  },
  {
   "cell_type": "code",
   "execution_count": 38,
   "outputs": [
    {
     "name": "stdout",
     "output_type": "stream",
     "text": [
      "0\n"
     ]
    }
   ],
   "source": [
    "cnt = 0\n",
    "actual_parent = list()\n",
    "for mid in all_mids:\n",
    "    # print(container.curr_taxonomy[mid]['parent_mid'])\n",
    "    if container.curr_taxonomy[mid]['parent_mid'] in all_mids:\n",
    "        actual_parent.append(container.curr_taxonomy[mid]['parent_mid'])\n",
    "        cnt += 1\n",
    "print(cnt)\n",
    "# actual_parent"
   ],
   "metadata": {
    "collapsed": false,
    "pycharm": {
     "name": "#%%\n"
    }
   }
  },
  {
   "cell_type": "code",
   "execution_count": 40,
   "outputs": [
    {
     "data": {
      "text/plain": "False"
     },
     "execution_count": 40,
     "metadata": {},
     "output_type": "execute_result"
    }
   ],
   "source": [
    "a = {1, 2, 7}\n",
    "a.issubset(set(range(5)))"
   ],
   "metadata": {
    "collapsed": false,
    "pycharm": {
     "name": "#%%\n"
    }
   }
  },
  {
   "cell_type": "code",
   "execution_count": null,
   "outputs": [],
   "source": [],
   "metadata": {
    "collapsed": false,
    "pycharm": {
     "name": "#%%\n"
    }
   }
  }
 ],
 "metadata": {
  "kernelspec": {
   "display_name": "Python 3",
   "language": "python",
   "name": "python3"
  },
  "language_info": {
   "codemirror_mode": {
    "name": "ipython",
    "version": 2
   },
   "file_extension": ".py",
   "mimetype": "text/x-python",
   "name": "python",
   "nbconvert_exporter": "python",
   "pygments_lexer": "ipython2",
   "version": "2.7.6"
  }
 },
 "nbformat": 4,
 "nbformat_minor": 0
}